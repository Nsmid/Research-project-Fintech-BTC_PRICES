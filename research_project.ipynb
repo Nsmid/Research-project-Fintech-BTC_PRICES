{
 "cells": [
  {
   "cell_type": "markdown",
   "metadata": {},
   "source": [
    "# Research Project \n",
    "\n"
   ]
  },
  {
   "cell_type": "markdown",
   "metadata": {},
   "source": [
    "#### Finding data\n",
    "- BTC price from API? or from different sources (i started on this - trying to get daily prices from api)\n",
    "- Oil, Gold, S&P 500 from Yahoo/Crsp/FactSet?\n",
    "- Google trend - we can find google trend also through api --> pytrends: https://pypi.org/project/pytrends/\n",
    "- Inflation, Interest rate in the US - CRSP or some other webpage with reliable info\n",
    "+ Deciding whether we will use returns/ prices/ so on :)"
   ]
  },
  {
   "cell_type": "code",
   "execution_count": 1,
   "metadata": {},
   "outputs": [],
   "source": [
    "#pip install pandas-datareader"
   ]
  },
  {
   "cell_type": "code",
   "execution_count": 160,
   "metadata": {},
   "outputs": [],
   "source": [
    "import pandas_datareader.data as web\n",
    "import pandas as pd\n",
    "import datetime as dt\n",
    "import os\n",
    "import numpy as np\n",
    "import matplotlib.pyplot as plt\n",
    "import seaborn as sns\n",
    "import statsmodels.api as sm\n",
    "from statsmodels.tsa.stattools import adfuller"
   ]
  },
  {
   "cell_type": "code",
   "execution_count": 74,
   "metadata": {},
   "outputs": [],
   "source": [
    "# yahoo finance data\n",
    "df1 = web.DataReader(['GC=F', 'CL=F', '^GSPC'], 'yahoo', start='2019-12-31', end='2022-01-18')[\"Adj Close\"]\n",
    "df1.rename(columns={'GC=F': 'GOLD', 'CL=F': 'OIL', '^GSPC': 'SP500'}, inplace=True)"
   ]
  },
  {
   "cell_type": "code",
   "execution_count": 75,
   "metadata": {
    "scrolled": true
   },
   "outputs": [
    {
     "name": "stdout",
     "output_type": "stream",
     "text": [
      "<class 'pandas.core.frame.DataFrame'>\n",
      "DatetimeIndex: 518 entries, 2019-12-31 to 2022-01-18\n",
      "Data columns (total 3 columns):\n",
      " #   Column  Non-Null Count  Dtype  \n",
      "---  ------  --------------  -----  \n",
      " 0   GOLD    518 non-null    float64\n",
      " 1   OIL     518 non-null    float64\n",
      " 2   SP500   516 non-null    float64\n",
      "dtypes: float64(3)\n",
      "memory usage: 16.2 KB\n"
     ]
    }
   ],
   "source": [
    "# df1.tail()\n",
    "df1.info()"
   ]
  },
  {
   "cell_type": "code",
   "execution_count": 76,
   "metadata": {},
   "outputs": [
    {
     "name": "stderr",
     "output_type": "stream",
     "text": [
      "/Users/nezasmid/opt/anaconda3/lib/python3.8/site-packages/pandas/core/arraylike.py:358: RuntimeWarning: invalid value encountered in log\n",
      "  result = getattr(ufunc, method)(*inputs, **kwargs)\n"
     ]
    }
   ],
   "source": [
    "returns = df1.copy()\n",
    "for i in range(1,len(df1+1)):\n",
    "    returns.iloc[i] = np.log(df1.iloc[i]/df1.iloc[i-1])\n",
    "returns = returns[1:]"
   ]
  },
  {
   "cell_type": "code",
   "execution_count": 77,
   "metadata": {},
   "outputs": [],
   "source": [
    "# effective federal funds rate (https://fred.stlouisfed.org/series/EFFR)\n",
    "df2 = web.DataReader(['EFFR'], 'fred', start='2020-01-01', end='2022-01-01')\n",
    "df2.rename(columns={'EFFR': 'IR'}, inplace=True)\n",
    "df2['IR']= df2['IR']/100"
   ]
  },
  {
   "cell_type": "code",
   "execution_count": 78,
   "metadata": {},
   "outputs": [
    {
     "data": {
      "text/html": [
       "<div>\n",
       "<style scoped>\n",
       "    .dataframe tbody tr th:only-of-type {\n",
       "        vertical-align: middle;\n",
       "    }\n",
       "\n",
       "    .dataframe tbody tr th {\n",
       "        vertical-align: top;\n",
       "    }\n",
       "\n",
       "    .dataframe thead th {\n",
       "        text-align: right;\n",
       "    }\n",
       "</style>\n",
       "<table border=\"1\" class=\"dataframe\">\n",
       "  <thead>\n",
       "    <tr style=\"text-align: right;\">\n",
       "      <th></th>\n",
       "      <th>IR</th>\n",
       "    </tr>\n",
       "    <tr>\n",
       "      <th>DATE</th>\n",
       "      <th></th>\n",
       "    </tr>\n",
       "  </thead>\n",
       "  <tbody>\n",
       "    <tr>\n",
       "      <th>2020-01-01</th>\n",
       "      <td>NaN</td>\n",
       "    </tr>\n",
       "    <tr>\n",
       "      <th>2020-01-02</th>\n",
       "      <td>0.0155</td>\n",
       "    </tr>\n",
       "    <tr>\n",
       "      <th>2020-01-03</th>\n",
       "      <td>0.0155</td>\n",
       "    </tr>\n",
       "    <tr>\n",
       "      <th>2020-01-06</th>\n",
       "      <td>0.0155</td>\n",
       "    </tr>\n",
       "    <tr>\n",
       "      <th>2020-01-07</th>\n",
       "      <td>0.0155</td>\n",
       "    </tr>\n",
       "  </tbody>\n",
       "</table>\n",
       "</div>"
      ],
      "text/plain": [
       "                IR\n",
       "DATE              \n",
       "2020-01-01     NaN\n",
       "2020-01-02  0.0155\n",
       "2020-01-03  0.0155\n",
       "2020-01-06  0.0155\n",
       "2020-01-07  0.0155"
      ]
     },
     "execution_count": 78,
     "metadata": {},
     "output_type": "execute_result"
    }
   ],
   "source": [
    "df2.head()"
   ]
  },
  {
   "cell_type": "code",
   "execution_count": 79,
   "metadata": {},
   "outputs": [],
   "source": [
    "df = returns.merge(df2, how= 'left', left_index = True, right_index = True)"
   ]
  },
  {
   "cell_type": "code",
   "execution_count": 80,
   "metadata": {},
   "outputs": [
    {
     "data": {
      "text/html": [
       "<div>\n",
       "<style scoped>\n",
       "    .dataframe tbody tr th:only-of-type {\n",
       "        vertical-align: middle;\n",
       "    }\n",
       "\n",
       "    .dataframe tbody tr th {\n",
       "        vertical-align: top;\n",
       "    }\n",
       "\n",
       "    .dataframe thead th {\n",
       "        text-align: right;\n",
       "    }\n",
       "</style>\n",
       "<table border=\"1\" class=\"dataframe\">\n",
       "  <thead>\n",
       "    <tr style=\"text-align: right;\">\n",
       "      <th></th>\n",
       "      <th>GOLD</th>\n",
       "      <th>OIL</th>\n",
       "      <th>SP500</th>\n",
       "      <th>IR</th>\n",
       "    </tr>\n",
       "    <tr>\n",
       "      <th>Date</th>\n",
       "      <th></th>\n",
       "      <th></th>\n",
       "      <th></th>\n",
       "      <th></th>\n",
       "    </tr>\n",
       "  </thead>\n",
       "  <tbody>\n",
       "    <tr>\n",
       "      <th>2020-01-02</th>\n",
       "      <td>0.003285</td>\n",
       "      <td>0.001963</td>\n",
       "      <td>0.008344</td>\n",
       "      <td>0.0155</td>\n",
       "    </tr>\n",
       "    <tr>\n",
       "      <th>2020-01-03</th>\n",
       "      <td>0.016072</td>\n",
       "      <td>0.030108</td>\n",
       "      <td>-0.007085</td>\n",
       "      <td>0.0155</td>\n",
       "    </tr>\n",
       "    <tr>\n",
       "      <th>2020-01-06</th>\n",
       "      <td>0.010914</td>\n",
       "      <td>0.003483</td>\n",
       "      <td>0.003527</td>\n",
       "      <td>0.0155</td>\n",
       "    </tr>\n",
       "    <tr>\n",
       "      <th>2020-01-07</th>\n",
       "      <td>0.003569</td>\n",
       "      <td>-0.009050</td>\n",
       "      <td>-0.002807</td>\n",
       "      <td>0.0155</td>\n",
       "    </tr>\n",
       "    <tr>\n",
       "      <th>2020-01-08</th>\n",
       "      <td>-0.009204</td>\n",
       "      <td>-0.050538</td>\n",
       "      <td>0.004890</td>\n",
       "      <td>0.0155</td>\n",
       "    </tr>\n",
       "  </tbody>\n",
       "</table>\n",
       "</div>"
      ],
      "text/plain": [
       "                GOLD       OIL     SP500      IR\n",
       "Date                                            \n",
       "2020-01-02  0.003285  0.001963  0.008344  0.0155\n",
       "2020-01-03  0.016072  0.030108 -0.007085  0.0155\n",
       "2020-01-06  0.010914  0.003483  0.003527  0.0155\n",
       "2020-01-07  0.003569 -0.009050 -0.002807  0.0155\n",
       "2020-01-08 -0.009204 -0.050538  0.004890  0.0155"
      ]
     },
     "execution_count": 80,
     "metadata": {},
     "output_type": "execute_result"
    }
   ],
   "source": [
    "# df.info()\n",
    "df.head()\n",
    "# df.tail()"
   ]
  },
  {
   "cell_type": "code",
   "execution_count": 81,
   "metadata": {},
   "outputs": [],
   "source": [
    "df3 = web.DataReader(['CPIAUCSL'], 'fred', start='2019-11-30', end='2022-01-01')\n",
    "df3.rename(columns={'CPIAUCSL': 'INFL'}, inplace=True)"
   ]
  },
  {
   "cell_type": "code",
   "execution_count": 82,
   "metadata": {
    "scrolled": true
   },
   "outputs": [
    {
     "data": {
      "text/html": [
       "<div>\n",
       "<style scoped>\n",
       "    .dataframe tbody tr th:only-of-type {\n",
       "        vertical-align: middle;\n",
       "    }\n",
       "\n",
       "    .dataframe tbody tr th {\n",
       "        vertical-align: top;\n",
       "    }\n",
       "\n",
       "    .dataframe thead th {\n",
       "        text-align: right;\n",
       "    }\n",
       "</style>\n",
       "<table border=\"1\" class=\"dataframe\">\n",
       "  <thead>\n",
       "    <tr style=\"text-align: right;\">\n",
       "      <th></th>\n",
       "      <th>INFL</th>\n",
       "    </tr>\n",
       "    <tr>\n",
       "      <th>DATE</th>\n",
       "      <th></th>\n",
       "    </tr>\n",
       "  </thead>\n",
       "  <tbody>\n",
       "    <tr>\n",
       "      <th>2020-01-01</th>\n",
       "      <td>0.001873</td>\n",
       "    </tr>\n",
       "    <tr>\n",
       "      <th>2020-02-01</th>\n",
       "      <td>0.000529</td>\n",
       "    </tr>\n",
       "    <tr>\n",
       "      <th>2020-03-01</th>\n",
       "      <td>-0.003231</td>\n",
       "    </tr>\n",
       "    <tr>\n",
       "      <th>2020-04-01</th>\n",
       "      <td>-0.006990</td>\n",
       "    </tr>\n",
       "    <tr>\n",
       "      <th>2020-05-01</th>\n",
       "      <td>-0.000976</td>\n",
       "    </tr>\n",
       "  </tbody>\n",
       "</table>\n",
       "</div>"
      ],
      "text/plain": [
       "                INFL\n",
       "DATE                \n",
       "2020-01-01  0.001873\n",
       "2020-02-01  0.000529\n",
       "2020-03-01 -0.003231\n",
       "2020-04-01 -0.006990\n",
       "2020-05-01 -0.000976"
      ]
     },
     "execution_count": 82,
     "metadata": {},
     "output_type": "execute_result"
    }
   ],
   "source": [
    "infl = df3.copy()\n",
    "for i in range(1,len(df3+1)):\n",
    "    infl.iloc[i] = np.log(df3.iloc[i]/df3.iloc[i-1])\n",
    "infl = infl[1:]\n",
    "infl.head()"
   ]
  },
  {
   "cell_type": "code",
   "execution_count": 83,
   "metadata": {},
   "outputs": [],
   "source": [
    "#pip install pytrends"
   ]
  },
  {
   "cell_type": "code",
   "execution_count": 84,
   "metadata": {},
   "outputs": [
    {
     "name": "stdout",
     "output_type": "stream",
     "text": [
      "Bitcoin:2020-01-01 2020-01-31\n",
      "Bitcoin:2020-02-01 2020-02-29\n",
      "Bitcoin:2020-03-01 2020-03-31\n",
      "Bitcoin:2020-04-01 2020-04-30\n",
      "Bitcoin:2020-05-01 2020-05-31\n",
      "Bitcoin:2020-06-01 2020-06-30\n",
      "Bitcoin:2020-07-01 2020-07-31\n",
      "Bitcoin:2020-08-01 2020-08-31\n",
      "Bitcoin:2020-09-01 2020-09-30\n",
      "Bitcoin:2020-10-01 2020-10-31\n",
      "Bitcoin:2020-11-01 2020-11-30\n",
      "Bitcoin:2020-12-01 2020-12-31\n",
      "Bitcoin:2021-01-01 2021-01-31\n",
      "Bitcoin:2021-02-01 2021-02-28\n",
      "Bitcoin:2021-03-01 2021-03-31\n",
      "Bitcoin:2021-04-01 2021-04-30\n",
      "Bitcoin:2021-05-01 2021-05-31\n",
      "Bitcoin:2021-06-01 2021-06-30\n",
      "Bitcoin:2021-07-01 2021-07-31\n",
      "Bitcoin:2021-08-01 2021-08-31\n",
      "Bitcoin:2021-09-01 2021-09-30\n",
      "Bitcoin:2021-10-01 2021-10-31\n",
      "Bitcoin:2021-11-01 2021-11-30\n",
      "Bitcoin:2021-12-01 2021-12-31\n",
      "Bitcoin:2022-01-01 2022-01-31\n"
     ]
    }
   ],
   "source": [
    "from pytrends.request import TrendReq\n",
    "from pytrends import dailydata\n",
    "\n",
    "Bitcoin_df = dailydata.get_daily_data('Bitcoin', 2020, 1, 2022, 1, geo = '')"
   ]
  },
  {
   "cell_type": "code",
   "execution_count": 85,
   "metadata": {},
   "outputs": [
    {
     "data": {
      "text/html": [
       "<div>\n",
       "<style scoped>\n",
       "    .dataframe tbody tr th:only-of-type {\n",
       "        vertical-align: middle;\n",
       "    }\n",
       "\n",
       "    .dataframe tbody tr th {\n",
       "        vertical-align: top;\n",
       "    }\n",
       "\n",
       "    .dataframe thead th {\n",
       "        text-align: right;\n",
       "    }\n",
       "</style>\n",
       "<table border=\"1\" class=\"dataframe\">\n",
       "  <thead>\n",
       "    <tr style=\"text-align: right;\">\n",
       "      <th></th>\n",
       "      <th>Bitcoin_unscaled</th>\n",
       "      <th>Bitcoin_monthly</th>\n",
       "      <th>isPartial</th>\n",
       "      <th>scale</th>\n",
       "      <th>Bitcoin</th>\n",
       "    </tr>\n",
       "    <tr>\n",
       "      <th>date</th>\n",
       "      <th></th>\n",
       "      <th></th>\n",
       "      <th></th>\n",
       "      <th></th>\n",
       "      <th></th>\n",
       "    </tr>\n",
       "  </thead>\n",
       "  <tbody>\n",
       "    <tr>\n",
       "      <th>2020-01-01</th>\n",
       "      <td>57</td>\n",
       "      <td>NaN</td>\n",
       "      <td>NaN</td>\n",
       "      <td>NaN</td>\n",
       "      <td>NaN</td>\n",
       "    </tr>\n",
       "    <tr>\n",
       "      <th>2020-01-02</th>\n",
       "      <td>67</td>\n",
       "      <td>NaN</td>\n",
       "      <td>NaN</td>\n",
       "      <td>NaN</td>\n",
       "      <td>NaN</td>\n",
       "    </tr>\n",
       "    <tr>\n",
       "      <th>2020-01-03</th>\n",
       "      <td>73</td>\n",
       "      <td>NaN</td>\n",
       "      <td>NaN</td>\n",
       "      <td>NaN</td>\n",
       "      <td>NaN</td>\n",
       "    </tr>\n",
       "    <tr>\n",
       "      <th>2020-01-04</th>\n",
       "      <td>65</td>\n",
       "      <td>NaN</td>\n",
       "      <td>NaN</td>\n",
       "      <td>NaN</td>\n",
       "      <td>NaN</td>\n",
       "    </tr>\n",
       "    <tr>\n",
       "      <th>2020-01-05</th>\n",
       "      <td>67</td>\n",
       "      <td>14.0</td>\n",
       "      <td>False</td>\n",
       "      <td>0.14</td>\n",
       "      <td>9.38</td>\n",
       "    </tr>\n",
       "    <tr>\n",
       "      <th>...</th>\n",
       "      <td>...</td>\n",
       "      <td>...</td>\n",
       "      <td>...</td>\n",
       "      <td>...</td>\n",
       "      <td>...</td>\n",
       "    </tr>\n",
       "    <tr>\n",
       "      <th>2022-01-11</th>\n",
       "      <td>77</td>\n",
       "      <td>35.0</td>\n",
       "      <td>NaN</td>\n",
       "      <td>0.35</td>\n",
       "      <td>26.95</td>\n",
       "    </tr>\n",
       "    <tr>\n",
       "      <th>2022-01-12</th>\n",
       "      <td>71</td>\n",
       "      <td>35.0</td>\n",
       "      <td>NaN</td>\n",
       "      <td>0.35</td>\n",
       "      <td>24.85</td>\n",
       "    </tr>\n",
       "    <tr>\n",
       "      <th>2022-01-13</th>\n",
       "      <td>70</td>\n",
       "      <td>35.0</td>\n",
       "      <td>NaN</td>\n",
       "      <td>0.35</td>\n",
       "      <td>24.50</td>\n",
       "    </tr>\n",
       "    <tr>\n",
       "      <th>2022-01-14</th>\n",
       "      <td>68</td>\n",
       "      <td>35.0</td>\n",
       "      <td>NaN</td>\n",
       "      <td>0.35</td>\n",
       "      <td>23.80</td>\n",
       "    </tr>\n",
       "    <tr>\n",
       "      <th>2022-01-15</th>\n",
       "      <td>55</td>\n",
       "      <td>35.0</td>\n",
       "      <td>NaN</td>\n",
       "      <td>0.35</td>\n",
       "      <td>19.25</td>\n",
       "    </tr>\n",
       "  </tbody>\n",
       "</table>\n",
       "<p>746 rows × 5 columns</p>\n",
       "</div>"
      ],
      "text/plain": [
       "            Bitcoin_unscaled  Bitcoin_monthly isPartial  scale  Bitcoin\n",
       "date                                                                   \n",
       "2020-01-01                57              NaN       NaN    NaN      NaN\n",
       "2020-01-02                67              NaN       NaN    NaN      NaN\n",
       "2020-01-03                73              NaN       NaN    NaN      NaN\n",
       "2020-01-04                65              NaN       NaN    NaN      NaN\n",
       "2020-01-05                67             14.0     False   0.14     9.38\n",
       "...                      ...              ...       ...    ...      ...\n",
       "2022-01-11                77             35.0       NaN   0.35    26.95\n",
       "2022-01-12                71             35.0       NaN   0.35    24.85\n",
       "2022-01-13                70             35.0       NaN   0.35    24.50\n",
       "2022-01-14                68             35.0       NaN   0.35    23.80\n",
       "2022-01-15                55             35.0       NaN   0.35    19.25\n",
       "\n",
       "[746 rows x 5 columns]"
      ]
     },
     "execution_count": 85,
     "metadata": {},
     "output_type": "execute_result"
    }
   ],
   "source": [
    "Bitcoin_df"
   ]
  },
  {
   "cell_type": "code",
   "execution_count": 86,
   "metadata": {},
   "outputs": [],
   "source": [
    "path = os.path.join('data','BTC-USD-2.csv')"
   ]
  },
  {
   "cell_type": "code",
   "execution_count": 87,
   "metadata": {},
   "outputs": [
    {
     "data": {
      "text/plain": [
       "Date          object\n",
       "Open         float64\n",
       "High         float64\n",
       "Low          float64\n",
       "Close        float64\n",
       "Adj Close    float64\n",
       "Volume         int64\n",
       "dtype: object"
      ]
     },
     "execution_count": 87,
     "metadata": {},
     "output_type": "execute_result"
    }
   ],
   "source": [
    "df_data = pd.read_csv(path)\n",
    "df_data.dtypes"
   ]
  },
  {
   "cell_type": "code",
   "execution_count": 88,
   "metadata": {},
   "outputs": [],
   "source": [
    "df_data.drop(columns=['Open', 'High', 'Low', 'Adj Close', 'Volume'], inplace=True)"
   ]
  },
  {
   "cell_type": "code",
   "execution_count": 89,
   "metadata": {
    "scrolled": false
   },
   "outputs": [],
   "source": [
    "df_data['Date']=pd.to_datetime(df_data['Date'])"
   ]
  },
  {
   "cell_type": "code",
   "execution_count": 90,
   "metadata": {},
   "outputs": [
    {
     "data": {
      "text/plain": [
       "Date     datetime64[ns]\n",
       "Close           float64\n",
       "dtype: object"
      ]
     },
     "execution_count": 90,
     "metadata": {},
     "output_type": "execute_result"
    }
   ],
   "source": [
    "df_data.dtypes"
   ]
  },
  {
   "cell_type": "code",
   "execution_count": 91,
   "metadata": {},
   "outputs": [],
   "source": [
    "df_btc=df_data.set_index('Date')"
   ]
  },
  {
   "cell_type": "code",
   "execution_count": 92,
   "metadata": {},
   "outputs": [],
   "source": [
    "returns_btc = df_btc.copy()\n",
    "for i in range(1,len(df_btc+1)):\n",
    "    returns_btc.iloc[i] = np.log(df_btc.iloc[i]/df_btc.iloc[i-1])\n",
    "returns_btc = returns_btc[1:]"
   ]
  },
  {
   "cell_type": "code",
   "execution_count": 93,
   "metadata": {
    "scrolled": false
   },
   "outputs": [
    {
     "data": {
      "text/html": [
       "<div>\n",
       "<style scoped>\n",
       "    .dataframe tbody tr th:only-of-type {\n",
       "        vertical-align: middle;\n",
       "    }\n",
       "\n",
       "    .dataframe tbody tr th {\n",
       "        vertical-align: top;\n",
       "    }\n",
       "\n",
       "    .dataframe thead th {\n",
       "        text-align: right;\n",
       "    }\n",
       "</style>\n",
       "<table border=\"1\" class=\"dataframe\">\n",
       "  <thead>\n",
       "    <tr style=\"text-align: right;\">\n",
       "      <th></th>\n",
       "      <th>Close</th>\n",
       "    </tr>\n",
       "    <tr>\n",
       "      <th>Date</th>\n",
       "      <th></th>\n",
       "    </tr>\n",
       "  </thead>\n",
       "  <tbody>\n",
       "    <tr>\n",
       "      <th>2020-01-02</th>\n",
       "      <td>-0.030273</td>\n",
       "    </tr>\n",
       "    <tr>\n",
       "      <th>2020-01-03</th>\n",
       "      <td>0.050172</td>\n",
       "    </tr>\n",
       "    <tr>\n",
       "      <th>2020-01-04</th>\n",
       "      <td>0.008915</td>\n",
       "    </tr>\n",
       "    <tr>\n",
       "      <th>2020-01-05</th>\n",
       "      <td>0.000089</td>\n",
       "    </tr>\n",
       "    <tr>\n",
       "      <th>2020-01-06</th>\n",
       "      <td>0.047161</td>\n",
       "    </tr>\n",
       "    <tr>\n",
       "      <th>...</th>\n",
       "      <td>...</td>\n",
       "    </tr>\n",
       "    <tr>\n",
       "      <th>2022-01-11</th>\n",
       "      <td>0.021633</td>\n",
       "    </tr>\n",
       "    <tr>\n",
       "      <th>2022-01-12</th>\n",
       "      <td>0.027994</td>\n",
       "    </tr>\n",
       "    <tr>\n",
       "      <th>2022-01-13</th>\n",
       "      <td>-0.031376</td>\n",
       "    </tr>\n",
       "    <tr>\n",
       "      <th>2022-01-14</th>\n",
       "      <td>0.011860</td>\n",
       "    </tr>\n",
       "    <tr>\n",
       "      <th>2022-01-15</th>\n",
       "      <td>0.001801</td>\n",
       "    </tr>\n",
       "  </tbody>\n",
       "</table>\n",
       "<p>745 rows × 1 columns</p>\n",
       "</div>"
      ],
      "text/plain": [
       "               Close\n",
       "Date                \n",
       "2020-01-02 -0.030273\n",
       "2020-01-03  0.050172\n",
       "2020-01-04  0.008915\n",
       "2020-01-05  0.000089\n",
       "2020-01-06  0.047161\n",
       "...              ...\n",
       "2022-01-11  0.021633\n",
       "2022-01-12  0.027994\n",
       "2022-01-13 -0.031376\n",
       "2022-01-14  0.011860\n",
       "2022-01-15  0.001801\n",
       "\n",
       "[745 rows x 1 columns]"
      ]
     },
     "execution_count": 93,
     "metadata": {},
     "output_type": "execute_result"
    }
   ],
   "source": [
    "returns_btc"
   ]
  },
  {
   "cell_type": "code",
   "execution_count": 96,
   "metadata": {},
   "outputs": [],
   "source": [
    "btc_merged=returns_btc.join(Bitcoin_df['Bitcoin_unscaled'])"
   ]
  },
  {
   "cell_type": "code",
   "execution_count": 97,
   "metadata": {},
   "outputs": [],
   "source": [
    "btc_df= btc_merged.join(df)"
   ]
  },
  {
   "cell_type": "code",
   "execution_count": 98,
   "metadata": {
    "scrolled": false
   },
   "outputs": [
    {
     "data": {
      "text/html": [
       "<div>\n",
       "<style scoped>\n",
       "    .dataframe tbody tr th:only-of-type {\n",
       "        vertical-align: middle;\n",
       "    }\n",
       "\n",
       "    .dataframe tbody tr th {\n",
       "        vertical-align: top;\n",
       "    }\n",
       "\n",
       "    .dataframe thead th {\n",
       "        text-align: right;\n",
       "    }\n",
       "</style>\n",
       "<table border=\"1\" class=\"dataframe\">\n",
       "  <thead>\n",
       "    <tr style=\"text-align: right;\">\n",
       "      <th></th>\n",
       "      <th>Close</th>\n",
       "      <th>Bitcoin_unscaled</th>\n",
       "      <th>GOLD</th>\n",
       "      <th>OIL</th>\n",
       "      <th>SP500</th>\n",
       "      <th>IR</th>\n",
       "    </tr>\n",
       "    <tr>\n",
       "      <th>Date</th>\n",
       "      <th></th>\n",
       "      <th></th>\n",
       "      <th></th>\n",
       "      <th></th>\n",
       "      <th></th>\n",
       "      <th></th>\n",
       "    </tr>\n",
       "  </thead>\n",
       "  <tbody>\n",
       "    <tr>\n",
       "      <th>2020-01-02</th>\n",
       "      <td>-0.030273</td>\n",
       "      <td>67</td>\n",
       "      <td>0.003285</td>\n",
       "      <td>0.001963</td>\n",
       "      <td>0.008344</td>\n",
       "      <td>0.0155</td>\n",
       "    </tr>\n",
       "    <tr>\n",
       "      <th>2020-01-03</th>\n",
       "      <td>0.050172</td>\n",
       "      <td>73</td>\n",
       "      <td>0.016072</td>\n",
       "      <td>0.030108</td>\n",
       "      <td>-0.007085</td>\n",
       "      <td>0.0155</td>\n",
       "    </tr>\n",
       "    <tr>\n",
       "      <th>2020-01-04</th>\n",
       "      <td>0.008915</td>\n",
       "      <td>65</td>\n",
       "      <td>NaN</td>\n",
       "      <td>NaN</td>\n",
       "      <td>NaN</td>\n",
       "      <td>NaN</td>\n",
       "    </tr>\n",
       "    <tr>\n",
       "      <th>2020-01-05</th>\n",
       "      <td>0.000089</td>\n",
       "      <td>67</td>\n",
       "      <td>NaN</td>\n",
       "      <td>NaN</td>\n",
       "      <td>NaN</td>\n",
       "      <td>NaN</td>\n",
       "    </tr>\n",
       "    <tr>\n",
       "      <th>2020-01-06</th>\n",
       "      <td>0.047161</td>\n",
       "      <td>78</td>\n",
       "      <td>0.010914</td>\n",
       "      <td>0.003483</td>\n",
       "      <td>0.003527</td>\n",
       "      <td>0.0155</td>\n",
       "    </tr>\n",
       "    <tr>\n",
       "      <th>...</th>\n",
       "      <td>...</td>\n",
       "      <td>...</td>\n",
       "      <td>...</td>\n",
       "      <td>...</td>\n",
       "      <td>...</td>\n",
       "      <td>...</td>\n",
       "    </tr>\n",
       "    <tr>\n",
       "      <th>2022-01-11</th>\n",
       "      <td>0.021633</td>\n",
       "      <td>77</td>\n",
       "      <td>0.011170</td>\n",
       "      <td>0.037508</td>\n",
       "      <td>0.009118</td>\n",
       "      <td>NaN</td>\n",
       "    </tr>\n",
       "    <tr>\n",
       "      <th>2022-01-12</th>\n",
       "      <td>0.027994</td>\n",
       "      <td>71</td>\n",
       "      <td>0.004718</td>\n",
       "      <td>0.017332</td>\n",
       "      <td>0.002814</td>\n",
       "      <td>NaN</td>\n",
       "    </tr>\n",
       "    <tr>\n",
       "      <th>2022-01-13</th>\n",
       "      <td>-0.031376</td>\n",
       "      <td>70</td>\n",
       "      <td>-0.003289</td>\n",
       "      <td>-0.006312</td>\n",
       "      <td>-0.014346</td>\n",
       "      <td>NaN</td>\n",
       "    </tr>\n",
       "    <tr>\n",
       "      <th>2022-01-14</th>\n",
       "      <td>0.011860</td>\n",
       "      <td>68</td>\n",
       "      <td>-0.002584</td>\n",
       "      <td>0.020490</td>\n",
       "      <td>0.000820</td>\n",
       "      <td>NaN</td>\n",
       "    </tr>\n",
       "    <tr>\n",
       "      <th>2022-01-15</th>\n",
       "      <td>0.001801</td>\n",
       "      <td>55</td>\n",
       "      <td>NaN</td>\n",
       "      <td>NaN</td>\n",
       "      <td>NaN</td>\n",
       "      <td>NaN</td>\n",
       "    </tr>\n",
       "  </tbody>\n",
       "</table>\n",
       "<p>745 rows × 6 columns</p>\n",
       "</div>"
      ],
      "text/plain": [
       "               Close  Bitcoin_unscaled      GOLD       OIL     SP500      IR\n",
       "Date                                                                        \n",
       "2020-01-02 -0.030273                67  0.003285  0.001963  0.008344  0.0155\n",
       "2020-01-03  0.050172                73  0.016072  0.030108 -0.007085  0.0155\n",
       "2020-01-04  0.008915                65       NaN       NaN       NaN     NaN\n",
       "2020-01-05  0.000089                67       NaN       NaN       NaN     NaN\n",
       "2020-01-06  0.047161                78  0.010914  0.003483  0.003527  0.0155\n",
       "...              ...               ...       ...       ...       ...     ...\n",
       "2022-01-11  0.021633                77  0.011170  0.037508  0.009118     NaN\n",
       "2022-01-12  0.027994                71  0.004718  0.017332  0.002814     NaN\n",
       "2022-01-13 -0.031376                70 -0.003289 -0.006312 -0.014346     NaN\n",
       "2022-01-14  0.011860                68 -0.002584  0.020490  0.000820     NaN\n",
       "2022-01-15  0.001801                55       NaN       NaN       NaN     NaN\n",
       "\n",
       "[745 rows x 6 columns]"
      ]
     },
     "execution_count": 98,
     "metadata": {},
     "output_type": "execute_result"
    }
   ],
   "source": [
    "btc_df"
   ]
  },
  {
   "cell_type": "code",
   "execution_count": 104,
   "metadata": {},
   "outputs": [],
   "source": [
    "data=btc_df.dropna()"
   ]
  },
  {
   "cell_type": "code",
   "execution_count": 105,
   "metadata": {
    "scrolled": false
   },
   "outputs": [
    {
     "data": {
      "text/html": [
       "<div>\n",
       "<style scoped>\n",
       "    .dataframe tbody tr th:only-of-type {\n",
       "        vertical-align: middle;\n",
       "    }\n",
       "\n",
       "    .dataframe tbody tr th {\n",
       "        vertical-align: top;\n",
       "    }\n",
       "\n",
       "    .dataframe thead th {\n",
       "        text-align: right;\n",
       "    }\n",
       "</style>\n",
       "<table border=\"1\" class=\"dataframe\">\n",
       "  <thead>\n",
       "    <tr style=\"text-align: right;\">\n",
       "      <th></th>\n",
       "      <th>Close</th>\n",
       "      <th>Bitcoin_unscaled</th>\n",
       "      <th>GOLD</th>\n",
       "      <th>OIL</th>\n",
       "      <th>SP500</th>\n",
       "      <th>IR</th>\n",
       "    </tr>\n",
       "    <tr>\n",
       "      <th>Date</th>\n",
       "      <th></th>\n",
       "      <th></th>\n",
       "      <th></th>\n",
       "      <th></th>\n",
       "      <th></th>\n",
       "      <th></th>\n",
       "    </tr>\n",
       "  </thead>\n",
       "  <tbody>\n",
       "    <tr>\n",
       "      <th>2020-01-02</th>\n",
       "      <td>-0.030273</td>\n",
       "      <td>67</td>\n",
       "      <td>0.003285</td>\n",
       "      <td>0.001963</td>\n",
       "      <td>0.008344</td>\n",
       "      <td>0.0155</td>\n",
       "    </tr>\n",
       "    <tr>\n",
       "      <th>2020-01-03</th>\n",
       "      <td>0.050172</td>\n",
       "      <td>73</td>\n",
       "      <td>0.016072</td>\n",
       "      <td>0.030108</td>\n",
       "      <td>-0.007085</td>\n",
       "      <td>0.0155</td>\n",
       "    </tr>\n",
       "    <tr>\n",
       "      <th>2020-01-06</th>\n",
       "      <td>0.047161</td>\n",
       "      <td>78</td>\n",
       "      <td>0.010914</td>\n",
       "      <td>0.003483</td>\n",
       "      <td>0.003527</td>\n",
       "      <td>0.0155</td>\n",
       "    </tr>\n",
       "    <tr>\n",
       "      <th>2020-01-07</th>\n",
       "      <td>0.049527</td>\n",
       "      <td>91</td>\n",
       "      <td>0.003569</td>\n",
       "      <td>-0.009050</td>\n",
       "      <td>-0.002807</td>\n",
       "      <td>0.0155</td>\n",
       "    </tr>\n",
       "    <tr>\n",
       "      <th>2020-01-08</th>\n",
       "      <td>-0.010322</td>\n",
       "      <td>100</td>\n",
       "      <td>-0.009204</td>\n",
       "      <td>-0.050538</td>\n",
       "      <td>0.004890</td>\n",
       "      <td>0.0155</td>\n",
       "    </tr>\n",
       "    <tr>\n",
       "      <th>...</th>\n",
       "      <td>...</td>\n",
       "      <td>...</td>\n",
       "      <td>...</td>\n",
       "      <td>...</td>\n",
       "      <td>...</td>\n",
       "      <td>...</td>\n",
       "    </tr>\n",
       "    <tr>\n",
       "      <th>2021-12-27</th>\n",
       "      <td>-0.003334</td>\n",
       "      <td>45</td>\n",
       "      <td>-0.001713</td>\n",
       "      <td>0.023836</td>\n",
       "      <td>0.013744</td>\n",
       "      <td>0.0008</td>\n",
       "    </tr>\n",
       "    <tr>\n",
       "      <th>2021-12-28</th>\n",
       "      <td>-0.062151</td>\n",
       "      <td>46</td>\n",
       "      <td>0.001161</td>\n",
       "      <td>0.005411</td>\n",
       "      <td>-0.001011</td>\n",
       "      <td>0.0008</td>\n",
       "    </tr>\n",
       "    <tr>\n",
       "      <th>2021-12-29</th>\n",
       "      <td>-0.024336</td>\n",
       "      <td>45</td>\n",
       "      <td>-0.002821</td>\n",
       "      <td>0.007605</td>\n",
       "      <td>0.001401</td>\n",
       "      <td>0.0008</td>\n",
       "    </tr>\n",
       "    <tr>\n",
       "      <th>2021-12-30</th>\n",
       "      <td>0.015668</td>\n",
       "      <td>44</td>\n",
       "      <td>0.004201</td>\n",
       "      <td>0.005601</td>\n",
       "      <td>-0.002994</td>\n",
       "      <td>0.0008</td>\n",
       "    </tr>\n",
       "    <tr>\n",
       "      <th>2021-12-31</th>\n",
       "      <td>-0.018649</td>\n",
       "      <td>42</td>\n",
       "      <td>0.008131</td>\n",
       "      <td>-0.023391</td>\n",
       "      <td>-0.002630</td>\n",
       "      <td>0.0007</td>\n",
       "    </tr>\n",
       "  </tbody>\n",
       "</table>\n",
       "<p>498 rows × 6 columns</p>\n",
       "</div>"
      ],
      "text/plain": [
       "               Close  Bitcoin_unscaled      GOLD       OIL     SP500      IR\n",
       "Date                                                                        \n",
       "2020-01-02 -0.030273                67  0.003285  0.001963  0.008344  0.0155\n",
       "2020-01-03  0.050172                73  0.016072  0.030108 -0.007085  0.0155\n",
       "2020-01-06  0.047161                78  0.010914  0.003483  0.003527  0.0155\n",
       "2020-01-07  0.049527                91  0.003569 -0.009050 -0.002807  0.0155\n",
       "2020-01-08 -0.010322               100 -0.009204 -0.050538  0.004890  0.0155\n",
       "...              ...               ...       ...       ...       ...     ...\n",
       "2021-12-27 -0.003334                45 -0.001713  0.023836  0.013744  0.0008\n",
       "2021-12-28 -0.062151                46  0.001161  0.005411 -0.001011  0.0008\n",
       "2021-12-29 -0.024336                45 -0.002821  0.007605  0.001401  0.0008\n",
       "2021-12-30  0.015668                44  0.004201  0.005601 -0.002994  0.0008\n",
       "2021-12-31 -0.018649                42  0.008131 -0.023391 -0.002630  0.0007\n",
       "\n",
       "[498 rows x 6 columns]"
      ]
     },
     "execution_count": 105,
     "metadata": {},
     "output_type": "execute_result"
    }
   ],
   "source": [
    "data"
   ]
  },
  {
   "cell_type": "code",
   "execution_count": 133,
   "metadata": {},
   "outputs": [
    {
     "name": "stderr",
     "output_type": "stream",
     "text": [
      "/Users/nezasmid/opt/anaconda3/lib/python3.8/site-packages/pandas/core/frame.py:4441: SettingWithCopyWarning: \n",
      "A value is trying to be set on a copy of a slice from a DataFrame\n",
      "\n",
      "See the caveats in the documentation: https://pandas.pydata.org/pandas-docs/stable/user_guide/indexing.html#returning-a-view-versus-a-copy\n",
      "  return super().rename(\n"
     ]
    }
   ],
   "source": [
    "data.rename(columns={\"Bitcoin_unscaled\": \"GoogleTrend\"}, inplace=True)"
   ]
  },
  {
   "cell_type": "markdown",
   "metadata": {},
   "source": [
    "### Descriptives - get to know the data"
   ]
  },
  {
   "cell_type": "code",
   "execution_count": 134,
   "metadata": {},
   "outputs": [
    {
     "data": {
      "text/plain": [
       "array([[<AxesSubplot:title={'center':'Close'}>,\n",
       "        <AxesSubplot:title={'center':'GoogleTrend'}>],\n",
       "       [<AxesSubplot:title={'center':'GOLD'}>,\n",
       "        <AxesSubplot:title={'center':'OIL'}>],\n",
       "       [<AxesSubplot:title={'center':'SP500'}>,\n",
       "        <AxesSubplot:title={'center':'IR'}>]], dtype=object)"
      ]
     },
     "execution_count": 134,
     "metadata": {},
     "output_type": "execute_result"
    },
    {
     "data": {
      "image/png": "[encoded data removed]",
      "text/plain": [
       "<Figure size 1440x1440 with 6 Axes>"
      ]
     },
     "metadata": {
      "needs_background": "light"
     },
     "output_type": "display_data"
    }
   ],
   "source": [
    "data.hist(figsize=(20,20))"
   ]
  },
  {
   "cell_type": "code",
   "execution_count": 135,
   "metadata": {},
   "outputs": [
    {
     "data": {
      "text/html": [
       "<div>\n",
       "<style scoped>\n",
       "    .dataframe tbody tr th:only-of-type {\n",
       "        vertical-align: middle;\n",
       "    }\n",
       "\n",
       "    .dataframe tbody tr th {\n",
       "        vertical-align: top;\n",
       "    }\n",
       "\n",
       "    .dataframe thead th {\n",
       "        text-align: right;\n",
       "    }\n",
       "</style>\n",
       "<table border=\"1\" class=\"dataframe\">\n",
       "  <thead>\n",
       "    <tr style=\"text-align: right;\">\n",
       "      <th></th>\n",
       "      <th>Close</th>\n",
       "      <th>GoogleTrend</th>\n",
       "      <th>GOLD</th>\n",
       "      <th>OIL</th>\n",
       "      <th>SP500</th>\n",
       "      <th>IR</th>\n",
       "    </tr>\n",
       "  </thead>\n",
       "  <tbody>\n",
       "    <tr>\n",
       "      <th>count</th>\n",
       "      <td>498.000000</td>\n",
       "      <td>498.000000</td>\n",
       "      <td>498.000000</td>\n",
       "      <td>498.000000</td>\n",
       "      <td>498.000000</td>\n",
       "      <td>498.000000</td>\n",
       "    </tr>\n",
       "    <tr>\n",
       "      <th>mean</th>\n",
       "      <td>0.003639</td>\n",
       "      <td>66.841365</td>\n",
       "      <td>0.000380</td>\n",
       "      <td>0.001927</td>\n",
       "      <td>0.000890</td>\n",
       "      <td>0.002232</td>\n",
       "    </tr>\n",
       "    <tr>\n",
       "      <th>std</th>\n",
       "      <td>0.045738</td>\n",
       "      <td>16.960272</td>\n",
       "      <td>0.011702</td>\n",
       "      <td>0.044265</td>\n",
       "      <td>0.016491</td>\n",
       "      <td>0.004284</td>\n",
       "    </tr>\n",
       "    <tr>\n",
       "      <th>min</th>\n",
       "      <td>-0.464730</td>\n",
       "      <td>27.000000</td>\n",
       "      <td>-0.051069</td>\n",
       "      <td>-0.282206</td>\n",
       "      <td>-0.127652</td>\n",
       "      <td>0.000400</td>\n",
       "    </tr>\n",
       "    <tr>\n",
       "      <th>25%</th>\n",
       "      <td>-0.016277</td>\n",
       "      <td>55.000000</td>\n",
       "      <td>-0.004395</td>\n",
       "      <td>-0.011828</td>\n",
       "      <td>-0.004561</td>\n",
       "      <td>0.000700</td>\n",
       "    </tr>\n",
       "    <tr>\n",
       "      <th>50%</th>\n",
       "      <td>0.002461</td>\n",
       "      <td>67.000000</td>\n",
       "      <td>0.000975</td>\n",
       "      <td>0.002528</td>\n",
       "      <td>0.001673</td>\n",
       "      <td>0.000800</td>\n",
       "    </tr>\n",
       "    <tr>\n",
       "      <th>75%</th>\n",
       "      <td>0.025754</td>\n",
       "      <td>78.000000</td>\n",
       "      <td>0.006125</td>\n",
       "      <td>0.016847</td>\n",
       "      <td>0.007933</td>\n",
       "      <td>0.000900</td>\n",
       "    </tr>\n",
       "    <tr>\n",
       "      <th>max</th>\n",
       "      <td>0.171821</td>\n",
       "      <td>100.000000</td>\n",
       "      <td>0.057775</td>\n",
       "      <td>0.319634</td>\n",
       "      <td>0.089683</td>\n",
       "      <td>0.016000</td>\n",
       "    </tr>\n",
       "  </tbody>\n",
       "</table>\n",
       "</div>"
      ],
      "text/plain": [
       "            Close  GoogleTrend        GOLD         OIL       SP500          IR\n",
       "count  498.000000   498.000000  498.000000  498.000000  498.000000  498.000000\n",
       "mean     0.003639    66.841365    0.000380    0.001927    0.000890    0.002232\n",
       "std      0.045738    16.960272    0.011702    0.044265    0.016491    0.004284\n",
       "min     -0.464730    27.000000   -0.051069   -0.282206   -0.127652    0.000400\n",
       "25%     -0.016277    55.000000   -0.004395   -0.011828   -0.004561    0.000700\n",
       "50%      0.002461    67.000000    0.000975    0.002528    0.001673    0.000800\n",
       "75%      0.025754    78.000000    0.006125    0.016847    0.007933    0.000900\n",
       "max      0.171821   100.000000    0.057775    0.319634    0.089683    0.016000"
      ]
     },
     "execution_count": 135,
     "metadata": {},
     "output_type": "execute_result"
    }
   ],
   "source": [
    "data.describe()"
   ]
  },
  {
   "cell_type": "markdown",
   "metadata": {},
   "source": [
    "### Should we standardized/winsorized ? When doing histograms i did not see any outliers maybe not necessary ?"
   ]
  },
  {
   "cell_type": "code",
   "execution_count": 136,
   "metadata": {},
   "outputs": [
    {
     "data": {
      "text/plain": [
       "<seaborn.axisgrid.PairGrid at 0x7faaf6ac2f40>"
      ]
     },
     "execution_count": 136,
     "metadata": {},
     "output_type": "execute_result"
    },
    {
     "data": {
      "image/png": "[encoded data removed]",
      "text/plain": [
       "<Figure size 1080x1080 with 42 Axes>"
      ]
     },
     "metadata": {
      "needs_background": "light"
     },
     "output_type": "display_data"
    }
   ],
   "source": [
    "sns.pairplot(data)"
   ]
  },
  {
   "cell_type": "markdown",
   "metadata": {},
   "source": [
    "### Dickey-Fuller test (if needed)\n",
    "\n",
    "https://www.statsmodels.org/dev/generated/statsmodels.tsa.stattools.adfuller.html\n",
    "https://www.statology.org/dickey-fuller-test-python/\n",
    "https://www.hackdeploy.com/augmented-dickey-fuller-test-in-python/"
   ]
  },
  {
   "cell_type": "code",
   "execution_count": 138,
   "metadata": {},
   "outputs": [
    {
     "name": "stdout",
     "output_type": "stream",
     "text": [
      "ADF Statistic: -5.7957834121024066\n",
      "n_lags: 4.755744636190434e-07\n",
      "p-value: 4.755744636190434e-07\n",
      "Critial Values:\n",
      "   1%, -3.443849184997939\n",
      "Critial Values:\n",
      "   5%, -2.8674931065091105\n",
      "Critial Values:\n",
      "   10%, -2.569940776113236\n"
     ]
    }
   ],
   "source": [
    "result = adfuller(data.Close, autolag='AIC')\n",
    "print(f'ADF Statistic: {result[0]}')\n",
    "print(f'n_lags: {result[1]}')\n",
    "print(f'p-value: {result[1]}')\n",
    "for key, value in result[4].items():\n",
    "    print('Critial Values:')\n",
    "    print(f'   {key}, {value}')  "
   ]
  },
  {
   "cell_type": "code",
   "execution_count": 139,
   "metadata": {},
   "outputs": [
    {
     "name": "stdout",
     "output_type": "stream",
     "text": [
      "ADF Statistic: -11.226344134223627\n",
      "n_lags: 1.9562908238047218e-20\n",
      "p-value: 1.9562908238047218e-20\n",
      "Critial Values:\n",
      "   1%, -3.4437112724287253\n",
      "Critial Values:\n",
      "   5%, -2.8674324209387345\n",
      "Critial Values:\n",
      "   10%, -2.569908433637385\n"
     ]
    }
   ],
   "source": [
    "result = adfuller(data.GOLD, autolag='AIC')\n",
    "print(f'ADF Statistic: {result[0]}')\n",
    "print(f'n_lags: {result[1]}')\n",
    "print(f'p-value: {result[1]}')\n",
    "for key, value in result[4].items():\n",
    "    print('Critial Values:')\n",
    "    print(f'   {key}, {value}')  "
   ]
  },
  {
   "cell_type": "code",
   "execution_count": 140,
   "metadata": {},
   "outputs": [
    {
     "name": "stdout",
     "output_type": "stream",
     "text": [
      "ADF Statistic: -4.360254329418174\n",
      "n_lags: 0.0003487813730822662\n",
      "p-value: 0.0003487813730822662\n",
      "Critial Values:\n",
      "   1%, -3.443849184997939\n",
      "Critial Values:\n",
      "   5%, -2.8674931065091105\n",
      "Critial Values:\n",
      "   10%, -2.569940776113236\n"
     ]
    }
   ],
   "source": [
    "result = adfuller(data.OIL, autolag='AIC')\n",
    "print(f'ADF Statistic: {result[0]}')\n",
    "print(f'n_lags: {result[1]}')\n",
    "print(f'p-value: {result[1]}')\n",
    "for key, value in result[4].items():\n",
    "    print('Critial Values:')\n",
    "    print(f'   {key}, {value}')  "
   ]
  },
  {
   "cell_type": "code",
   "execution_count": 141,
   "metadata": {},
   "outputs": [
    {
     "name": "stdout",
     "output_type": "stream",
     "text": [
      "ADF Statistic: -6.063789099357868\n",
      "n_lags: 1.195148593557008e-07\n",
      "p-value: 1.195148593557008e-07\n",
      "Critial Values:\n",
      "   1%, -3.4437936797256317\n",
      "Critial Values:\n",
      "   5%, -2.867468682890213\n",
      "Critial Values:\n",
      "   10%, -2.5699277594606915\n"
     ]
    }
   ],
   "source": [
    "result = adfuller(data.SP500, autolag='AIC')\n",
    "print(f'ADF Statistic: {result[0]}')\n",
    "print(f'n_lags: {result[1]}')\n",
    "print(f'p-value: {result[1]}')\n",
    "for key, value in result[4].items():\n",
    "    print('Critial Values:')\n",
    "    print(f'   {key}, {value}')  "
   ]
  },
  {
   "cell_type": "code",
   "execution_count": 142,
   "metadata": {},
   "outputs": [
    {
     "name": "stdout",
     "output_type": "stream",
     "text": [
      "ADF Statistic: -3.907332667792376\n",
      "n_lags: 0.001981540562966316\n",
      "p-value: 0.001981540562966316\n",
      "Critial Values:\n",
      "   1%, -3.4440184853599876\n",
      "Critial Values:\n",
      "   5%, -2.867567599912013\n",
      "Critial Values:\n",
      "   10%, -2.5699804779975883\n"
     ]
    }
   ],
   "source": [
    "result = adfuller(data.IR, autolag='AIC')\n",
    "print(f'ADF Statistic: {result[0]}')\n",
    "print(f'n_lags: {result[1]}')\n",
    "print(f'p-value: {result[1]}')\n",
    "for key, value in result[4].items():\n",
    "    print('Critial Values:')\n",
    "    print(f'   {key}, {value}')  "
   ]
  },
  {
   "cell_type": "code",
   "execution_count": 143,
   "metadata": {},
   "outputs": [
    {
     "name": "stdout",
     "output_type": "stream",
     "text": [
      "ADF Statistic: -7.2639336863960295\n",
      "n_lags: 1.6538116105082766e-10\n",
      "p-value: 1.6538116105082766e-10\n",
      "Critial Values:\n",
      "   1%, -3.4436298692815304\n",
      "Critial Values:\n",
      "   5%, -2.867396599893435\n",
      "Critial Values:\n",
      "   10%, -2.5698893429241916\n"
     ]
    }
   ],
   "source": [
    "result = adfuller(data.GoogleTrend, autolag='AIC')\n",
    "print(f'ADF Statistic: {result[0]}')\n",
    "print(f'n_lags: {result[1]}')\n",
    "print(f'p-value: {result[1]}')\n",
    "for key, value in result[4].items():\n",
    "    print('Critial Values:')\n",
    "    print(f'   {key}, {value}')  "
   ]
  },
  {
   "cell_type": "markdown",
   "metadata": {},
   "source": [
    "https://www.hackdeploy.com/augmented-dickey-fuller-test-in-python/\n",
    "Looks really nice, but i cant figure it out how to make it work :( next ines below this "
   ]
  },
  {
   "cell_type": "code",
   "execution_count": 154,
   "metadata": {},
   "outputs": [],
   "source": [
    "class StationarityTests:\n",
    "    def __init__(self, significance=.05):\n",
    "        self.SignificanceLevel = significance\n",
    "        self.pValue = None\n",
    "        self.isStationary = None"
   ]
  },
  {
   "cell_type": "code",
   "execution_count": 155,
   "metadata": {},
   "outputs": [],
   "source": [
    "def ADF_Stationarity_Test(self, timeseries, printResults = True):\n",
    "    #Dickey-Fuller test:\n",
    "    adfTest = adfuller(timeseries, autolag='AIC')\n",
    "        \n",
    "    self.pValue = adfTest[1]\n",
    "        \n",
    "    if (self.pValue<self.SignificanceLevel):\n",
    "        self.isStationary = True\n",
    "    else:\n",
    "        self.isStationary = False\n",
    "        \n",
    "    if printResults:\n",
    "        dfResults = pd.Series(adfTest[0:4], index=['ADF Test Statistic','P-Value','# Lags Used','# Observations Used'])\n",
    "        #Add Critical Values\n",
    "        for key,value in adfTest[4].items():\n",
    "            dfResults['Critical Value (%s)'%key] = value\n",
    "        print('Augmented Dickey-Fuller Test Results:')\n",
    "        print(dfResults)"
   ]
  },
  {
   "cell_type": "code",
   "execution_count": 157,
   "metadata": {},
   "outputs": [
    {
     "ename": "AttributeError",
     "evalue": "'StationarityTests' object has no attribute 'ADF_Stationarity_Test'",
     "output_type": "error",
     "traceback": [
      "\u001b[0;31m---------------------------------------------------------------------------\u001b[0m",
      "\u001b[0;31mAttributeError\u001b[0m                            Traceback (most recent call last)",
      "\u001b[0;32m<ipython-input-157-bd4987722c4d>\u001b[0m in \u001b[0;36m<module>\u001b[0;34m\u001b[0m\n\u001b[1;32m      1\u001b[0m \u001b[0msTest\u001b[0m \u001b[0;34m=\u001b[0m \u001b[0mStationarityTests\u001b[0m\u001b[0;34m(\u001b[0m\u001b[0;34m)\u001b[0m\u001b[0;34m\u001b[0m\u001b[0;34m\u001b[0m\u001b[0m\n\u001b[0;32m----> 2\u001b[0;31m \u001b[0msTest\u001b[0m\u001b[0;34m.\u001b[0m\u001b[0mADF_Stationarity_Test\u001b[0m\u001b[0;34m(\u001b[0m\u001b[0mdata\u001b[0m\u001b[0;34m.\u001b[0m\u001b[0mClose\u001b[0m\u001b[0;34m,\u001b[0m \u001b[0mprintResults\u001b[0m \u001b[0;34m=\u001b[0m \u001b[0;32mTrue\u001b[0m\u001b[0;34m)\u001b[0m\u001b[0;34m\u001b[0m\u001b[0;34m\u001b[0m\u001b[0m\n\u001b[0m\u001b[1;32m      3\u001b[0m \u001b[0mprint\u001b[0m\u001b[0;34m(\u001b[0m\u001b[0;34m\"Is the time series stationary? {0}\"\u001b[0m\u001b[0;34m.\u001b[0m\u001b[0mformat\u001b[0m\u001b[0;34m(\u001b[0m\u001b[0msTest\u001b[0m\u001b[0;34m.\u001b[0m\u001b[0misStationary\u001b[0m\u001b[0;34m)\u001b[0m\u001b[0;34m)\u001b[0m\u001b[0;34m\u001b[0m\u001b[0;34m\u001b[0m\u001b[0m\n",
      "\u001b[0;31mAttributeError\u001b[0m: 'StationarityTests' object has no attribute 'ADF_Stationarity_Test'"
     ]
    }
   ],
   "source": [
    "sTest = StationarityTests()\n",
    "sTest.ADF_Stationarity_Test(data.Close, printResults = True)\n",
    "print(\"Is the time series stationary? {0}\".format(sTest.isStationary))"
   ]
  },
  {
   "cell_type": "markdown",
   "metadata": {},
   "source": [
    "### Correlation matirx"
   ]
  },
  {
   "cell_type": "code",
   "execution_count": 117,
   "metadata": {},
   "outputs": [
    {
     "data": {
      "image/png": "[encoded data removed]",
      "text/plain": [
       "<Figure size 720x720 with 2 Axes>"
      ]
     },
     "metadata": {
      "needs_background": "light"
     },
     "output_type": "display_data"
    }
   ],
   "source": [
    "data.corr()\n",
    "\n",
    "# Plotting the seaborn heatmap \n",
    "fig = plt.figure(figsize=[10,10])\n",
    "sns.heatmap(data.corr(), annot=True, cmap=\"Greens\")\n",
    "plt.show()"
   ]
  },
  {
   "cell_type": "code",
   "execution_count": 158,
   "metadata": {},
   "outputs": [
    {
     "data": {
      "text/html": [
       "<div>\n",
       "<style scoped>\n",
       "    .dataframe tbody tr th:only-of-type {\n",
       "        vertical-align: middle;\n",
       "    }\n",
       "\n",
       "    .dataframe tbody tr th {\n",
       "        vertical-align: top;\n",
       "    }\n",
       "\n",
       "    .dataframe thead th {\n",
       "        text-align: right;\n",
       "    }\n",
       "</style>\n",
       "<table border=\"1\" class=\"dataframe\">\n",
       "  <thead>\n",
       "    <tr style=\"text-align: right;\">\n",
       "      <th></th>\n",
       "      <th>Close</th>\n",
       "      <th>GoogleTrend</th>\n",
       "      <th>GOLD</th>\n",
       "      <th>OIL</th>\n",
       "      <th>SP500</th>\n",
       "      <th>IR</th>\n",
       "    </tr>\n",
       "  </thead>\n",
       "  <tbody>\n",
       "    <tr>\n",
       "      <th>Close</th>\n",
       "      <td>1.000000</td>\n",
       "      <td>0.031256</td>\n",
       "      <td>0.154091</td>\n",
       "      <td>0.146747</td>\n",
       "      <td>0.358031</td>\n",
       "      <td>-0.027422</td>\n",
       "    </tr>\n",
       "    <tr>\n",
       "      <th>GoogleTrend</th>\n",
       "      <td>0.031256</td>\n",
       "      <td>1.000000</td>\n",
       "      <td>-0.105927</td>\n",
       "      <td>-0.023652</td>\n",
       "      <td>-0.026659</td>\n",
       "      <td>0.162033</td>\n",
       "    </tr>\n",
       "    <tr>\n",
       "      <th>GOLD</th>\n",
       "      <td>0.154091</td>\n",
       "      <td>-0.105927</td>\n",
       "      <td>1.000000</td>\n",
       "      <td>0.095802</td>\n",
       "      <td>0.147254</td>\n",
       "      <td>0.002396</td>\n",
       "    </tr>\n",
       "    <tr>\n",
       "      <th>OIL</th>\n",
       "      <td>0.146747</td>\n",
       "      <td>-0.023652</td>\n",
       "      <td>0.095802</td>\n",
       "      <td>1.000000</td>\n",
       "      <td>0.297962</td>\n",
       "      <td>-0.107532</td>\n",
       "    </tr>\n",
       "    <tr>\n",
       "      <th>SP500</th>\n",
       "      <td>0.358031</td>\n",
       "      <td>-0.026659</td>\n",
       "      <td>0.147254</td>\n",
       "      <td>0.297962</td>\n",
       "      <td>1.000000</td>\n",
       "      <td>-0.085995</td>\n",
       "    </tr>\n",
       "    <tr>\n",
       "      <th>IR</th>\n",
       "      <td>-0.027422</td>\n",
       "      <td>0.162033</td>\n",
       "      <td>0.002396</td>\n",
       "      <td>-0.107532</td>\n",
       "      <td>-0.085995</td>\n",
       "      <td>1.000000</td>\n",
       "    </tr>\n",
       "  </tbody>\n",
       "</table>\n",
       "</div>"
      ],
      "text/plain": [
       "                Close  GoogleTrend      GOLD       OIL     SP500        IR\n",
       "Close        1.000000     0.031256  0.154091  0.146747  0.358031 -0.027422\n",
       "GoogleTrend  0.031256     1.000000 -0.105927 -0.023652 -0.026659  0.162033\n",
       "GOLD         0.154091    -0.105927  1.000000  0.095802  0.147254  0.002396\n",
       "OIL          0.146747    -0.023652  0.095802  1.000000  0.297962 -0.107532\n",
       "SP500        0.358031    -0.026659  0.147254  0.297962  1.000000 -0.085995\n",
       "IR          -0.027422     0.162033  0.002396 -0.107532 -0.085995  1.000000"
      ]
     },
     "execution_count": 158,
     "metadata": {},
     "output_type": "execute_result"
    }
   ],
   "source": [
    "data.corr()"
   ]
  },
  {
   "cell_type": "markdown",
   "metadata": {},
   "source": [
    "### Classic OLS model\n",
    "https://www.statsmodels.org/dev/examples/notebooks/generated/ols.html"
   ]
  },
  {
   "cell_type": "code",
   "execution_count": 162,
   "metadata": {},
   "outputs": [],
   "source": [
    "x=data.drop(columns=['Close'])"
   ]
  },
  {
   "cell_type": "code",
   "execution_count": 163,
   "metadata": {},
   "outputs": [],
   "source": [
    "y=data.Close"
   ]
  },
  {
   "cell_type": "code",
   "execution_count": 180,
   "metadata": {},
   "outputs": [
    {
     "data": {
      "text/html": [
       "<table class=\"simpletable\">\n",
       "<caption>OLS Regression Results</caption>\n",
       "<tr>\n",
       "  <th>Dep. Variable:</th>          <td>Close</td>      <th>  R-squared (uncentered):</th>      <td>   0.147</td>\n",
       "</tr>\n",
       "<tr>\n",
       "  <th>Model:</th>                   <td>OLS</td>       <th>  Adj. R-squared (uncentered):</th> <td>   0.138</td>\n",
       "</tr>\n",
       "<tr>\n",
       "  <th>Method:</th>             <td>Least Squares</td>  <th>  F-statistic:       </th>          <td>   16.97</td>\n",
       "</tr>\n",
       "<tr>\n",
       "  <th>Date:</th>             <td>Tue, 18 Jan 2022</td> <th>  Prob (F-statistic):</th>          <td>1.72e-15</td>\n",
       "</tr>\n",
       "<tr>\n",
       "  <th>Time:</th>                 <td>20:16:30</td>     <th>  Log-Likelihood:    </th>          <td>  868.07</td>\n",
       "</tr>\n",
       "<tr>\n",
       "  <th>No. Observations:</th>      <td>   498</td>      <th>  AIC:               </th>          <td>  -1726.</td>\n",
       "</tr>\n",
       "<tr>\n",
       "  <th>Df Residuals:</th>          <td>   493</td>      <th>  BIC:               </th>          <td>  -1705.</td>\n",
       "</tr>\n",
       "<tr>\n",
       "  <th>Df Model:</th>              <td>     5</td>      <th>                     </th>              <td> </td>   \n",
       "</tr>\n",
       "<tr>\n",
       "  <th>Covariance Type:</th>      <td>nonrobust</td>    <th>                     </th>              <td> </td>   \n",
       "</tr>\n",
       "</table>\n",
       "<table class=\"simpletable\">\n",
       "<tr>\n",
       "       <td></td>          <th>coef</th>     <th>std err</th>      <th>t</th>      <th>P>|t|</th>  <th>[0.025</th>    <th>0.975]</th>  \n",
       "</tr>\n",
       "<tr>\n",
       "  <th>GoogleTrend</th> <td> 4.581e-05</td> <td> 3.18e-05</td> <td>    1.442</td> <td> 0.150</td> <td>-1.66e-05</td> <td>    0.000</td>\n",
       "</tr>\n",
       "<tr>\n",
       "  <th>GOLD</th>        <td>    0.4033</td> <td>    0.165</td> <td>    2.441</td> <td> 0.015</td> <td>    0.079</td> <td>    0.728</td>\n",
       "</tr>\n",
       "<tr>\n",
       "  <th>OIL</th>         <td>    0.0391</td> <td>    0.045</td> <td>    0.862</td> <td> 0.389</td> <td>   -0.050</td> <td>    0.128</td>\n",
       "</tr>\n",
       "<tr>\n",
       "  <th>SP500</th>       <td>    0.9189</td> <td>    0.122</td> <td>    7.506</td> <td> 0.000</td> <td>    0.678</td> <td>    1.159</td>\n",
       "</tr>\n",
       "<tr>\n",
       "  <th>IR</th>          <td>   -0.0270</td> <td>    0.455</td> <td>   -0.059</td> <td> 0.953</td> <td>   -0.921</td> <td>    0.867</td>\n",
       "</tr>\n",
       "</table>\n",
       "<table class=\"simpletable\">\n",
       "<tr>\n",
       "  <th>Omnibus:</th>       <td>182.735</td> <th>  Durbin-Watson:     </th> <td>   2.126</td>\n",
       "</tr>\n",
       "<tr>\n",
       "  <th>Prob(Omnibus):</th> <td> 0.000</td>  <th>  Jarque-Bera (JB):  </th> <td>2626.894</td>\n",
       "</tr>\n",
       "<tr>\n",
       "  <th>Skew:</th>          <td>-1.180</td>  <th>  Prob(JB):          </th> <td>    0.00</td>\n",
       "</tr>\n",
       "<tr>\n",
       "  <th>Kurtosis:</th>      <td>14.001</td>  <th>  Cond. No.          </th> <td>1.65e+04</td>\n",
       "</tr>\n",
       "</table><br/><br/>Notes:<br/>[1] R² is computed without centering (uncentered) since the model does not contain a constant.<br/>[2] Standard Errors assume that the covariance matrix of the errors is correctly specified.<br/>[3] The condition number is large, 1.65e+04. This might indicate that there are<br/>strong multicollinearity or other numerical problems."
      ],
      "text/plain": [
       "<class 'statsmodels.iolib.summary.Summary'>\n",
       "\"\"\"\n",
       "                                 OLS Regression Results                                \n",
       "=======================================================================================\n",
       "Dep. Variable:                  Close   R-squared (uncentered):                   0.147\n",
       "Model:                            OLS   Adj. R-squared (uncentered):              0.138\n",
       "Method:                 Least Squares   F-statistic:                              16.97\n",
       "Date:                Tue, 18 Jan 2022   Prob (F-statistic):                    1.72e-15\n",
       "Time:                        20:16:30   Log-Likelihood:                          868.07\n",
       "No. Observations:                 498   AIC:                                     -1726.\n",
       "Df Residuals:                     493   BIC:                                     -1705.\n",
       "Df Model:                           5                                                  \n",
       "Covariance Type:            nonrobust                                                  \n",
       "===============================================================================\n",
       "                  coef    std err          t      P>|t|      [0.025      0.975]\n",
       "-------------------------------------------------------------------------------\n",
       "GoogleTrend  4.581e-05   3.18e-05      1.442      0.150   -1.66e-05       0.000\n",
       "GOLD            0.4033      0.165      2.441      0.015       0.079       0.728\n",
       "OIL             0.0391      0.045      0.862      0.389      -0.050       0.128\n",
       "SP500           0.9189      0.122      7.506      0.000       0.678       1.159\n",
       "IR             -0.0270      0.455     -0.059      0.953      -0.921       0.867\n",
       "==============================================================================\n",
       "Omnibus:                      182.735   Durbin-Watson:                   2.126\n",
       "Prob(Omnibus):                  0.000   Jarque-Bera (JB):             2626.894\n",
       "Skew:                          -1.180   Prob(JB):                         0.00\n",
       "Kurtosis:                      14.001   Cond. No.                     1.65e+04\n",
       "==============================================================================\n",
       "\n",
       "Notes:\n",
       "[1] R² is computed without centering (uncentered) since the model does not contain a constant.\n",
       "[2] Standard Errors assume that the covariance matrix of the errors is correctly specified.\n",
       "[3] The condition number is large, 1.65e+04. This might indicate that there are\n",
       "strong multicollinearity or other numerical problems.\n",
       "\"\"\""
      ]
     },
     "execution_count": 180,
     "metadata": {},
     "output_type": "execute_result"
    }
   ],
   "source": [
    "#Model without the constant - just the variables also considering IR but we can replace it later\n",
    "results = sm.OLS(y, x).fit()\n",
    "results.summary()"
   ]
  },
  {
   "cell_type": "code",
   "execution_count": 177,
   "metadata": {},
   "outputs": [
    {
     "name": "stderr",
     "output_type": "stream",
     "text": [
      "<ipython-input-177-33ac47f10509>:1: SettingWithCopyWarning: \n",
      "A value is trying to be set on a copy of a slice from a DataFrame.\n",
      "Try using .loc[row_indexer,col_indexer] = value instead\n",
      "\n",
      "See the caveats in the documentation: https://pandas.pydata.org/pandas-docs/stable/user_guide/indexing.html#returning-a-view-versus-a-copy\n",
      "  data['const'] = 1\n"
     ]
    }
   ],
   "source": [
    "#including constant in the model - \n",
    "#there was a solution to how to include constant in the model, not sure if really is the right method\n",
    "data['const'] = 1"
   ]
  },
  {
   "cell_type": "code",
   "execution_count": 179,
   "metadata": {},
   "outputs": [
    {
     "data": {
      "text/html": [
       "<table class=\"simpletable\">\n",
       "<caption>OLS Regression Results</caption>\n",
       "<tr>\n",
       "  <th>Dep. Variable:</th>          <td>Close</td>      <th>  R-squared:         </th> <td>   0.143</td>\n",
       "</tr>\n",
       "<tr>\n",
       "  <th>Model:</th>                   <td>OLS</td>       <th>  Adj. R-squared:    </th> <td>   0.136</td>\n",
       "</tr>\n",
       "<tr>\n",
       "  <th>Method:</th>             <td>Least Squares</td>  <th>  F-statistic:       </th> <td>   20.52</td>\n",
       "</tr>\n",
       "<tr>\n",
       "  <th>Date:</th>             <td>Tue, 18 Jan 2022</td> <th>  Prob (F-statistic):</th> <td>1.18e-15</td>\n",
       "</tr>\n",
       "<tr>\n",
       "  <th>Time:</th>                 <td>20:16:12</td>     <th>  Log-Likelihood:    </th> <td>  868.46</td>\n",
       "</tr>\n",
       "<tr>\n",
       "  <th>No. Observations:</th>      <td>   498</td>      <th>  AIC:               </th> <td>  -1727.</td>\n",
       "</tr>\n",
       "<tr>\n",
       "  <th>Df Residuals:</th>          <td>   493</td>      <th>  BIC:               </th> <td>  -1706.</td>\n",
       "</tr>\n",
       "<tr>\n",
       "  <th>Df Model:</th>              <td>     4</td>      <th>                     </th>     <td> </td>   \n",
       "</tr>\n",
       "<tr>\n",
       "  <th>Covariance Type:</th>      <td>nonrobust</td>    <th>                     </th>     <td> </td>   \n",
       "</tr>\n",
       "</table>\n",
       "<table class=\"simpletable\">\n",
       "<tr>\n",
       "       <td></td>          <th>coef</th>     <th>std err</th>      <th>t</th>      <th>P>|t|</th>  <th>[0.025</th>    <th>0.975]</th>  \n",
       "</tr>\n",
       "<tr>\n",
       "  <th>const</th>       <td>   -0.0069</td> <td>    0.008</td> <td>   -0.878</td> <td> 0.380</td> <td>   -0.022</td> <td>    0.008</td>\n",
       "</tr>\n",
       "<tr>\n",
       "  <th>GOLD</th>        <td>    0.4183</td> <td>    0.166</td> <td>    2.521</td> <td> 0.012</td> <td>    0.092</td> <td>    0.744</td>\n",
       "</tr>\n",
       "<tr>\n",
       "  <th>OIL</th>         <td>    0.0401</td> <td>    0.045</td> <td>    0.886</td> <td> 0.376</td> <td>   -0.049</td> <td>    0.129</td>\n",
       "</tr>\n",
       "<tr>\n",
       "  <th>SP500</th>       <td>    0.9211</td> <td>    0.122</td> <td>    7.543</td> <td> 0.000</td> <td>    0.681</td> <td>    1.161</td>\n",
       "</tr>\n",
       "<tr>\n",
       "  <th>GoogleTrend</th> <td>    0.0001</td> <td>    0.000</td> <td>    1.248</td> <td> 0.212</td> <td> -8.1e-05</td> <td>    0.000</td>\n",
       "</tr>\n",
       "</table>\n",
       "<table class=\"simpletable\">\n",
       "<tr>\n",
       "  <th>Omnibus:</th>       <td>185.506</td> <th>  Durbin-Watson:     </th> <td>   2.129</td>\n",
       "</tr>\n",
       "<tr>\n",
       "  <th>Prob(Omnibus):</th> <td> 0.000</td>  <th>  Jarque-Bera (JB):  </th> <td>2679.143</td>\n",
       "</tr>\n",
       "<tr>\n",
       "  <th>Skew:</th>          <td>-1.203</td>  <th>  Prob(JB):          </th> <td>    0.00</td>\n",
       "</tr>\n",
       "<tr>\n",
       "  <th>Kurtosis:</th>      <td>14.105</td>  <th>  Cond. No.          </th> <td>6.06e+03</td>\n",
       "</tr>\n",
       "</table><br/><br/>Notes:<br/>[1] Standard Errors assume that the covariance matrix of the errors is correctly specified.<br/>[2] The condition number is large, 6.06e+03. This might indicate that there are<br/>strong multicollinearity or other numerical problems."
      ],
      "text/plain": [
       "<class 'statsmodels.iolib.summary.Summary'>\n",
       "\"\"\"\n",
       "                            OLS Regression Results                            \n",
       "==============================================================================\n",
       "Dep. Variable:                  Close   R-squared:                       0.143\n",
       "Model:                            OLS   Adj. R-squared:                  0.136\n",
       "Method:                 Least Squares   F-statistic:                     20.52\n",
       "Date:                Tue, 18 Jan 2022   Prob (F-statistic):           1.18e-15\n",
       "Time:                        20:16:12   Log-Likelihood:                 868.46\n",
       "No. Observations:                 498   AIC:                            -1727.\n",
       "Df Residuals:                     493   BIC:                            -1706.\n",
       "Df Model:                           4                                         \n",
       "Covariance Type:            nonrobust                                         \n",
       "===============================================================================\n",
       "                  coef    std err          t      P>|t|      [0.025      0.975]\n",
       "-------------------------------------------------------------------------------\n",
       "const          -0.0069      0.008     -0.878      0.380      -0.022       0.008\n",
       "GOLD            0.4183      0.166      2.521      0.012       0.092       0.744\n",
       "OIL             0.0401      0.045      0.886      0.376      -0.049       0.129\n",
       "SP500           0.9211      0.122      7.543      0.000       0.681       1.161\n",
       "GoogleTrend     0.0001      0.000      1.248      0.212    -8.1e-05       0.000\n",
       "==============================================================================\n",
       "Omnibus:                      185.506   Durbin-Watson:                   2.129\n",
       "Prob(Omnibus):                  0.000   Jarque-Bera (JB):             2679.143\n",
       "Skew:                          -1.203   Prob(JB):                         0.00\n",
       "Kurtosis:                      14.105   Cond. No.                     6.06e+03\n",
       "==============================================================================\n",
       "\n",
       "Notes:\n",
       "[1] Standard Errors assume that the covariance matrix of the errors is correctly specified.\n",
       "[2] The condition number is large, 6.06e+03. This might indicate that there are\n",
       "strong multicollinearity or other numerical problems.\n",
       "\"\"\""
      ]
     },
     "execution_count": 179,
     "metadata": {},
     "output_type": "execute_result"
    }
   ],
   "source": [
    "result = sm.OLS(endog=data['Close'], exog=data[['const', 'GOLD', 'OIL', 'SP500', 'GoogleTrend']]).fit()\n",
    "result.summary()"
   ]
  },
  {
   "cell_type": "code",
   "execution_count": 184,
   "metadata": {},
   "outputs": [
    {
     "name": "stdout",
     "output_type": "stream",
     "text": [
      "                            OLS Regression Results                            \n",
      "==============================================================================\n",
      "Dep. Variable:                  Close   R-squared:                       0.143\n",
      "Model:                            OLS   Adj. R-squared:                  0.136\n",
      "Method:                 Least Squares   F-statistic:                     20.52\n",
      "Date:                Tue, 18 Jan 2022   Prob (F-statistic):           1.18e-15\n",
      "Time:                        20:19:17   Log-Likelihood:                 868.46\n",
      "No. Observations:                 498   AIC:                            -1727.\n",
      "Df Residuals:                     493   BIC:                            -1706.\n",
      "Df Model:                           4                                         \n",
      "Covariance Type:            nonrobust                                         \n",
      "===============================================================================\n",
      "                  coef    std err          t      P>|t|      [0.025      0.975]\n",
      "-------------------------------------------------------------------------------\n",
      "const          -0.0069      0.008     -0.878      0.380      -0.022       0.008\n",
      "GOLD            0.4183      0.166      2.521      0.012       0.092       0.744\n",
      "OIL             0.0401      0.045      0.886      0.376      -0.049       0.129\n",
      "SP500           0.9211      0.122      7.543      0.000       0.681       1.161\n",
      "GoogleTrend     0.0001      0.000      1.248      0.212    -8.1e-05       0.000\n",
      "==============================================================================\n",
      "Omnibus:                      185.506   Durbin-Watson:                   2.129\n",
      "Prob(Omnibus):                  0.000   Jarque-Bera (JB):             2679.143\n",
      "Skew:                          -1.203   Prob(JB):                         0.00\n",
      "Kurtosis:                      14.105   Cond. No.                     6.06e+03\n",
      "==============================================================================\n",
      "\n",
      "Notes:\n",
      "[1] Standard Errors assume that the covariance matrix of the errors is correctly specified.\n",
      "[2] The condition number is large, 6.06e+03. This might indicate that there are\n",
      "strong multicollinearity or other numerical problems.\n"
     ]
    }
   ],
   "source": [
    "#Which format of output do we like more. :) ?\n",
    "print(result.summary())"
   ]
  },
  {
   "cell_type": "markdown",
   "metadata": {},
   "source": [
    "#### VAR model\n",
    "https://www.machinelearningplus.com/time-series/vector-autoregression-examples-python/"
   ]
  },
  {
   "cell_type": "code",
   "execution_count": null,
   "metadata": {},
   "outputs": [],
   "source": []
  },
  {
   "cell_type": "code",
   "execution_count": null,
   "metadata": {},
   "outputs": [],
   "source": []
  },
  {
   "cell_type": "code",
   "execution_count": null,
   "metadata": {},
   "outputs": [],
   "source": []
  },
  {
   "cell_type": "markdown",
   "metadata": {},
   "source": [
    "#### If needed also ARDL"
   ]
  },
  {
   "cell_type": "code",
   "execution_count": null,
   "metadata": {},
   "outputs": [],
   "source": []
  }
 ],
 "metadata": {
  "hide_input": false,
  "kernelspec": {
   "display_name": "Python 3",
   "language": "python",
   "name": "python3"
  },
  "language_info": {
   "codemirror_mode": {
    "name": "ipython",
    "version": 3
   },
   "file_extension": ".py",
   "mimetype": "text/x-python",
   "name": "python",
   "nbconvert_exporter": "python",
   "pygments_lexer": "ipython3",
   "version": "3.8.8"
  },
  "latex_envs": {
   "LaTeX_envs_menu_present": true,
   "autoclose": false,
   "autocomplete": true,
   "bibliofile": "biblio.bib",
   "cite_by": "apalike",
   "current_citInitial": 1,
   "eqLabelWithNumbers": true,
   "eqNumInitial": 1,
   "hotkeys": {
    "equation": "Ctrl-E",
    "itemize": "Ctrl-I"
   },
   "labels_anchors": false,
   "latex_user_defs": false,
   "report_style_numbering": false,
   "user_envs_cfg": false
  },
  "toc": {
   "base_numbering": 1,
   "nav_menu": {},
   "number_sections": false,
   "sideBar": true,
   "skip_h1_title": false,
   "title_cell": "Table of Contents",
   "title_sidebar": "Contents",
   "toc_cell": false,
   "toc_position": {},
   "toc_section_display": true,
   "toc_window_display": true
  },
  "varInspector": {
   "cols": {
    "lenName": 16,
    "lenType": 16,
    "lenVar": 40
   },
   "kernels_config": {
    "python": {
     "delete_cmd_postfix": "",
     "delete_cmd_prefix": "del ",
     "library": "var_list.py",
     "varRefreshCmd": "print(var_dic_list())"
    },
    "r": {
     "delete_cmd_postfix": ") ",
     "delete_cmd_prefix": "rm(",
     "library": "var_list.r",
     "varRefreshCmd": "cat(var_dic_list()) "
    }
   },
   "types_to_exclude": [
    "module",
    "function",
    "builtin_function_or_method",
    "instance",
    "_Feature"
   ],
   "window_display": false
  }
 },
 "nbformat": 4,
 "nbformat_minor": 2
}

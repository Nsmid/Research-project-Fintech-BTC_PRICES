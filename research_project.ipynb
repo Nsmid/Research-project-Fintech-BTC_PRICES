{
 "cells": [
  {
   "cell_type": "markdown",
   "metadata": {},
   "source": [
    "# Research Project \n",
    "\n"
   ]
  },
  {
   "cell_type": "markdown",
   "metadata": {},
   "source": [
    "#### Finding data\n",
    "- BTC price from API? or from different sources\n",
    "- Oil, Gold, S&P 500 from Yahoo/Crsp/FactSet?\n",
    "- Google trend - we can find google trend also through api --> pytrends: https://pypi.org/project/pytrends/\n",
    "- Inflation, Interest rate in the US - CRSP or some other webpage with reliable info\n",
    "+ Deciding whether we will use returns/ prices/ so on :)"
   ]
  },
  {
   "cell_type": "code",
   "execution_count": 1,
   "metadata": {},
   "outputs": [],
   "source": [
    "#pip install pandas-datareader"
   ]
  },
  {
   "cell_type": "code",
   "execution_count": 2,
   "metadata": {},
   "outputs": [],
   "source": [
    "import pandas_datareader.data as web\n",
    "import pandas as pd\n",
    "import datetime as dt\n",
    "import os\n",
    "import numpy as np\n",
    "import matplotlib.pyplot as plt\n",
    "import seaborn as sns\n",
    "import statsmodels.api as sm\n",
    "from statsmodels.tsa.stattools import adfuller\n",
    "from statsmodels.formula.api import ols\n",
    "from statsmodels.tsa.api import VAR\n",
    "from statsmodels.tools.eval_measures import rmse, aic\n",
    "from sklearn.preprocessing import StandardScaler"
   ]
  },
  {
   "cell_type": "markdown",
   "metadata": {},
   "source": [
    "### Factor 1, 2 + 3\n",
    "Gold, Oil, S&P500"
   ]
  },
  {
   "cell_type": "code",
   "execution_count": 3,
   "metadata": {},
   "outputs": [],
   "source": [
    "#Import yahoo finance data: Gold, SP500, Oil\n",
    "yahoofin_prices = web.DataReader(['GC=F', 'CL=F', '^GSPC'], 'yahoo', start='2019-12-31', end='2022-01-18')[\"Adj Close\"]\n",
    "yahoofin_prices.rename(columns={'GC=F': 'GOLD', 'CL=F': 'OIL', '^GSPC': 'SP500'}, inplace=True)"
   ]
  },
  {
   "cell_type": "code",
   "execution_count": 4,
   "metadata": {},
   "outputs": [
    {
     "data": {
      "text/html": [
       "<div>\n",
       "<style scoped>\n",
       "    .dataframe tbody tr th:only-of-type {\n",
       "        vertical-align: middle;\n",
       "    }\n",
       "\n",
       "    .dataframe tbody tr th {\n",
       "        vertical-align: top;\n",
       "    }\n",
       "\n",
       "    .dataframe thead th {\n",
       "        text-align: right;\n",
       "    }\n",
       "</style>\n",
       "<table border=\"1\" class=\"dataframe\">\n",
       "  <thead>\n",
       "    <tr style=\"text-align: right;\">\n",
       "      <th>Symbols</th>\n",
       "      <th>GOLD</th>\n",
       "      <th>OIL</th>\n",
       "      <th>SP500</th>\n",
       "    </tr>\n",
       "    <tr>\n",
       "      <th>Date</th>\n",
       "      <th></th>\n",
       "      <th></th>\n",
       "      <th></th>\n",
       "    </tr>\n",
       "  </thead>\n",
       "  <tbody>\n",
       "    <tr>\n",
       "      <th>2019-12-31</th>\n",
       "      <td>1519.500000</td>\n",
       "      <td>61.060001</td>\n",
       "      <td>3230.780029</td>\n",
       "    </tr>\n",
       "    <tr>\n",
       "      <th>2020-01-02</th>\n",
       "      <td>1524.500000</td>\n",
       "      <td>61.180000</td>\n",
       "      <td>3257.850098</td>\n",
       "    </tr>\n",
       "    <tr>\n",
       "      <th>2020-01-03</th>\n",
       "      <td>1549.199951</td>\n",
       "      <td>63.049999</td>\n",
       "      <td>3234.850098</td>\n",
       "    </tr>\n",
       "    <tr>\n",
       "      <th>2020-01-06</th>\n",
       "      <td>1566.199951</td>\n",
       "      <td>63.270000</td>\n",
       "      <td>3246.280029</td>\n",
       "    </tr>\n",
       "    <tr>\n",
       "      <th>2020-01-07</th>\n",
       "      <td>1571.800049</td>\n",
       "      <td>62.700001</td>\n",
       "      <td>3237.179932</td>\n",
       "    </tr>\n",
       "  </tbody>\n",
       "</table>\n",
       "</div>"
      ],
      "text/plain": [
       "Symbols            GOLD        OIL        SP500\n",
       "Date                                           \n",
       "2019-12-31  1519.500000  61.060001  3230.780029\n",
       "2020-01-02  1524.500000  61.180000  3257.850098\n",
       "2020-01-03  1549.199951  63.049999  3234.850098\n",
       "2020-01-06  1566.199951  63.270000  3246.280029\n",
       "2020-01-07  1571.800049  62.700001  3237.179932"
      ]
     },
     "execution_count": 4,
     "metadata": {},
     "output_type": "execute_result"
    }
   ],
   "source": [
    "#Print Gold, Oil, SP500 prices\n",
    "yahoofin_prices.head()"
   ]
  },
  {
   "cell_type": "code",
   "execution_count": 5,
   "metadata": {
    "scrolled": true
   },
   "outputs": [
    {
     "name": "stdout",
     "output_type": "stream",
     "text": [
      "<class 'pandas.core.frame.DataFrame'>\n",
      "DatetimeIndex: 518 entries, 2019-12-31 to 2022-01-18\n",
      "Data columns (total 3 columns):\n",
      " #   Column  Non-Null Count  Dtype  \n",
      "---  ------  --------------  -----  \n",
      " 0   GOLD    518 non-null    float64\n",
      " 1   OIL     518 non-null    float64\n",
      " 2   SP500   517 non-null    float64\n",
      "dtypes: float64(3)\n",
      "memory usage: 16.2 KB\n"
     ]
    }
   ],
   "source": [
    "#Info of Gold, Oil, SP500 prices\n",
    "yahoofin_prices.info()"
   ]
  },
  {
   "cell_type": "code",
   "execution_count": 6,
   "metadata": {},
   "outputs": [
    {
     "name": "stderr",
     "output_type": "stream",
     "text": [
      "/Users/nezasmid/opt/anaconda3/lib/python3.8/site-packages/pandas/core/arraylike.py:358: RuntimeWarning: invalid value encountered in log\n",
      "  result = getattr(ufunc, method)(*inputs, **kwargs)\n"
     ]
    }
   ],
   "source": [
    "#Calculate the returns of the prices\n",
    "yahoofin_returns = yahoofin_prices.copy()\n",
    "for i in range(1,len(yahoofin_prices+1)):\n",
    "    yahoofin_returns.iloc[i] = np.log(yahoofin_prices.iloc[i]/yahoofin_prices.iloc[i-1])\n",
    "yahoofin_returns = yahoofin_returns[1:]"
   ]
  },
  {
   "cell_type": "code",
   "execution_count": 7,
   "metadata": {},
   "outputs": [
    {
     "data": {
      "text/html": [
       "<div>\n",
       "<style scoped>\n",
       "    .dataframe tbody tr th:only-of-type {\n",
       "        vertical-align: middle;\n",
       "    }\n",
       "\n",
       "    .dataframe tbody tr th {\n",
       "        vertical-align: top;\n",
       "    }\n",
       "\n",
       "    .dataframe thead th {\n",
       "        text-align: right;\n",
       "    }\n",
       "</style>\n",
       "<table border=\"1\" class=\"dataframe\">\n",
       "  <thead>\n",
       "    <tr style=\"text-align: right;\">\n",
       "      <th>Symbols</th>\n",
       "      <th>GOLD</th>\n",
       "      <th>OIL</th>\n",
       "      <th>SP500</th>\n",
       "    </tr>\n",
       "    <tr>\n",
       "      <th>Date</th>\n",
       "      <th></th>\n",
       "      <th></th>\n",
       "      <th></th>\n",
       "    </tr>\n",
       "  </thead>\n",
       "  <tbody>\n",
       "    <tr>\n",
       "      <th>2020-01-02</th>\n",
       "      <td>0.003285</td>\n",
       "      <td>0.001963</td>\n",
       "      <td>0.008344</td>\n",
       "    </tr>\n",
       "    <tr>\n",
       "      <th>2020-01-03</th>\n",
       "      <td>0.016072</td>\n",
       "      <td>0.030108</td>\n",
       "      <td>-0.007085</td>\n",
       "    </tr>\n",
       "    <tr>\n",
       "      <th>2020-01-06</th>\n",
       "      <td>0.010914</td>\n",
       "      <td>0.003483</td>\n",
       "      <td>0.003527</td>\n",
       "    </tr>\n",
       "    <tr>\n",
       "      <th>2020-01-07</th>\n",
       "      <td>0.003569</td>\n",
       "      <td>-0.009050</td>\n",
       "      <td>-0.002807</td>\n",
       "    </tr>\n",
       "    <tr>\n",
       "      <th>2020-01-08</th>\n",
       "      <td>-0.009204</td>\n",
       "      <td>-0.050538</td>\n",
       "      <td>0.004890</td>\n",
       "    </tr>\n",
       "  </tbody>\n",
       "</table>\n",
       "</div>"
      ],
      "text/plain": [
       "Symbols         GOLD       OIL     SP500\n",
       "Date                                    \n",
       "2020-01-02  0.003285  0.001963  0.008344\n",
       "2020-01-03  0.016072  0.030108 -0.007085\n",
       "2020-01-06  0.010914  0.003483  0.003527\n",
       "2020-01-07  0.003569 -0.009050 -0.002807\n",
       "2020-01-08 -0.009204 -0.050538  0.004890"
      ]
     },
     "execution_count": 7,
     "metadata": {},
     "output_type": "execute_result"
    }
   ],
   "source": [
    "#Print Gold, Oil, SP500 returns\n",
    "yahoofin_returns.head()"
   ]
  },
  {
   "cell_type": "markdown",
   "metadata": {},
   "source": [
    "### Factor 4\n",
    "Effective Federal Funds Rate"
   ]
  },
  {
   "cell_type": "code",
   "execution_count": 8,
   "metadata": {},
   "outputs": [],
   "source": [
    "#Import Effective federal funds rate (https://fred.stlouisfed.org/series/EFFR) \n",
    "interestrate = web.DataReader(['EFFR'], 'fred', start='2020-01-01', end='2022-01-01')\n",
    "interestrate.rename(columns={'EFFR': 'IR'}, inplace=True)\n",
    "interestrate['IR']=interestrate['IR']/100"
   ]
  },
  {
   "cell_type": "code",
   "execution_count": 9,
   "metadata": {},
   "outputs": [],
   "source": [
    "#Merge first 4 factors\n",
    "yahoofin_IR = yahoofin_prices.merge(interestrate, how= 'left', left_index = True, right_index = True)"
   ]
  },
  {
   "cell_type": "code",
   "execution_count": 10,
   "metadata": {},
   "outputs": [
    {
     "data": {
      "text/html": [
       "<div>\n",
       "<style scoped>\n",
       "    .dataframe tbody tr th:only-of-type {\n",
       "        vertical-align: middle;\n",
       "    }\n",
       "\n",
       "    .dataframe tbody tr th {\n",
       "        vertical-align: top;\n",
       "    }\n",
       "\n",
       "    .dataframe thead th {\n",
       "        text-align: right;\n",
       "    }\n",
       "</style>\n",
       "<table border=\"1\" class=\"dataframe\">\n",
       "  <thead>\n",
       "    <tr style=\"text-align: right;\">\n",
       "      <th></th>\n",
       "      <th>GOLD</th>\n",
       "      <th>OIL</th>\n",
       "      <th>SP500</th>\n",
       "      <th>IR</th>\n",
       "    </tr>\n",
       "    <tr>\n",
       "      <th>Date</th>\n",
       "      <th></th>\n",
       "      <th></th>\n",
       "      <th></th>\n",
       "      <th></th>\n",
       "    </tr>\n",
       "  </thead>\n",
       "  <tbody>\n",
       "    <tr>\n",
       "      <th>2019-12-31</th>\n",
       "      <td>1519.500000</td>\n",
       "      <td>61.060001</td>\n",
       "      <td>3230.780029</td>\n",
       "      <td>NaN</td>\n",
       "    </tr>\n",
       "    <tr>\n",
       "      <th>2020-01-02</th>\n",
       "      <td>1524.500000</td>\n",
       "      <td>61.180000</td>\n",
       "      <td>3257.850098</td>\n",
       "      <td>0.0155</td>\n",
       "    </tr>\n",
       "    <tr>\n",
       "      <th>2020-01-03</th>\n",
       "      <td>1549.199951</td>\n",
       "      <td>63.049999</td>\n",
       "      <td>3234.850098</td>\n",
       "      <td>0.0155</td>\n",
       "    </tr>\n",
       "    <tr>\n",
       "      <th>2020-01-06</th>\n",
       "      <td>1566.199951</td>\n",
       "      <td>63.270000</td>\n",
       "      <td>3246.280029</td>\n",
       "      <td>0.0155</td>\n",
       "    </tr>\n",
       "    <tr>\n",
       "      <th>2020-01-07</th>\n",
       "      <td>1571.800049</td>\n",
       "      <td>62.700001</td>\n",
       "      <td>3237.179932</td>\n",
       "      <td>0.0155</td>\n",
       "    </tr>\n",
       "  </tbody>\n",
       "</table>\n",
       "</div>"
      ],
      "text/plain": [
       "                   GOLD        OIL        SP500      IR\n",
       "Date                                                   \n",
       "2019-12-31  1519.500000  61.060001  3230.780029     NaN\n",
       "2020-01-02  1524.500000  61.180000  3257.850098  0.0155\n",
       "2020-01-03  1549.199951  63.049999  3234.850098  0.0155\n",
       "2020-01-06  1566.199951  63.270000  3246.280029  0.0155\n",
       "2020-01-07  1571.800049  62.700001  3237.179932  0.0155"
      ]
     },
     "execution_count": 10,
     "metadata": {},
     "output_type": "execute_result"
    }
   ],
   "source": [
    "#Print head\n",
    "yahoofin_IR.head()"
   ]
  },
  {
   "cell_type": "code",
   "execution_count": 11,
   "metadata": {},
   "outputs": [],
   "source": [
    "# df3 = web.DataReader(['CPIAUCSL'], 'fred', start='2019-11-30', end='2022-01-01')\n",
    "# df3.rename(columns={'CPIAUCSL': 'INFL'}, inplace=True)"
   ]
  },
  {
   "cell_type": "code",
   "execution_count": 12,
   "metadata": {
    "scrolled": true
   },
   "outputs": [],
   "source": [
    "# infl = df3.copy()\n",
    "# for i in range(1,len(df3+1)):\n",
    "#     infl.iloc[i] = np.log(df3.iloc[i]/df3.iloc[i-1])\n",
    "# infl = infl[1:]\n",
    "# infl.head()"
   ]
  },
  {
   "cell_type": "markdown",
   "metadata": {},
   "source": [
    "------------------------------------------------------------------------------------------------------------------"
   ]
  },
  {
   "cell_type": "markdown",
   "metadata": {},
   "source": [
    "#### Other possible factors"
   ]
  },
  {
   "cell_type": "markdown",
   "metadata": {},
   "source": [
    "### Factor 5 + 6\n",
    "US daily News Index + Bitcoin Transactions"
   ]
  },
  {
   "cell_type": "code",
   "execution_count": 13,
   "metadata": {},
   "outputs": [],
   "source": [
    "# US Daily News Index (http://www.policyuncertainty.com/us_monthly.html)\n",
    "daily_news = pd.read_csv('data/All_Daily_Policy_Data.csv')\n",
    "daily_news['date'] = pd.to_datetime(dict(year=daily_news.year, month=daily_news.month, day=daily_news.day))\n",
    "daily_news.set_index('date', inplace = True)\n",
    "daily_news = pd.DataFrame(daily_news.daily_policy_index)\n",
    "daily_news = daily_news.loc['2019-12-31':]\n",
    "daily_news.rename(columns = {'daily_policy_index': 'EPU'}, inplace=True)"
   ]
  },
  {
   "cell_type": "code",
   "execution_count": 14,
   "metadata": {},
   "outputs": [],
   "source": [
    "# The number of daily confirmed Bitcoin transactions (https://data.nasdaq.com/data/BCHAIN/NTRAN-bitcoin-number-of-transactions)\n",
    "transactions = pd.read_csv('data/BCHAIN-NTRAN.csv')\n",
    "transactions.sort_values(by=['Date'], ascending=True, inplace=True)\n",
    "transactions['Date'] = pd.to_datetime(transactions['Date'])\n",
    "transactions.set_index('Date', inplace = True)\n",
    "transactions = transactions.loc['2019-12-31':]\n",
    "transactions.rename(columns = {'Value': 'transactions'}, inplace=True)"
   ]
  },
  {
   "cell_type": "code",
   "execution_count": 15,
   "metadata": {},
   "outputs": [],
   "source": [
    "#Merge the daily Index and the Bitcoin transactions\n",
    "dailynews_transactions = daily_news.merge(transactions, left_index = True, right_index = True)"
   ]
  },
  {
   "cell_type": "code",
   "execution_count": 16,
   "metadata": {},
   "outputs": [
    {
     "data": {
      "text/html": [
       "<div>\n",
       "<style scoped>\n",
       "    .dataframe tbody tr th:only-of-type {\n",
       "        vertical-align: middle;\n",
       "    }\n",
       "\n",
       "    .dataframe tbody tr th {\n",
       "        vertical-align: top;\n",
       "    }\n",
       "\n",
       "    .dataframe thead th {\n",
       "        text-align: right;\n",
       "    }\n",
       "</style>\n",
       "<table border=\"1\" class=\"dataframe\">\n",
       "  <thead>\n",
       "    <tr style=\"text-align: right;\">\n",
       "      <th></th>\n",
       "      <th>EPU</th>\n",
       "      <th>transactions</th>\n",
       "    </tr>\n",
       "    <tr>\n",
       "      <th>date</th>\n",
       "      <th></th>\n",
       "      <th></th>\n",
       "    </tr>\n",
       "  </thead>\n",
       "  <tbody>\n",
       "    <tr>\n",
       "      <th>2019-12-31</th>\n",
       "      <td>105.75</td>\n",
       "      <td>293447.0</td>\n",
       "    </tr>\n",
       "    <tr>\n",
       "      <th>2020-01-01</th>\n",
       "      <td>186.06</td>\n",
       "      <td>251735.0</td>\n",
       "    </tr>\n",
       "    <tr>\n",
       "      <th>2020-01-02</th>\n",
       "      <td>139.13</td>\n",
       "      <td>295567.0</td>\n",
       "    </tr>\n",
       "    <tr>\n",
       "      <th>2020-01-03</th>\n",
       "      <td>108.10</td>\n",
       "      <td>316517.0</td>\n",
       "    </tr>\n",
       "    <tr>\n",
       "      <th>2020-01-04</th>\n",
       "      <td>212.82</td>\n",
       "      <td>287215.0</td>\n",
       "    </tr>\n",
       "  </tbody>\n",
       "</table>\n",
       "</div>"
      ],
      "text/plain": [
       "               EPU  transactions\n",
       "date                            \n",
       "2019-12-31  105.75      293447.0\n",
       "2020-01-01  186.06      251735.0\n",
       "2020-01-02  139.13      295567.0\n",
       "2020-01-03  108.10      316517.0\n",
       "2020-01-04  212.82      287215.0"
      ]
     },
     "execution_count": 16,
     "metadata": {},
     "output_type": "execute_result"
    }
   ],
   "source": [
    "#Print the head\n",
    "dailynews_transactions.head()"
   ]
  },
  {
   "cell_type": "markdown",
   "metadata": {},
   "source": [
    "### Factor 7\n",
    "VIX index"
   ]
  },
  {
   "cell_type": "code",
   "execution_count": 17,
   "metadata": {},
   "outputs": [],
   "source": [
    "#The VIX Index is recognized as the world’s premier gauge of U.S. equity market volatility\n",
    "# (https://www.cboe.com/tradable_products/vix/)\n",
    "VIX = pd.read_csv('data/VIX_History.csv')\n",
    "VIX['DATE'] = pd.to_datetime(VIX['DATE'])\n",
    "VIX.set_index('DATE', inplace = True)\n",
    "VIX = VIX.loc['2019-12-31':]\n",
    "VIX.rename(columns = {'CLOSE': 'VIX'}, inplace=True)\n",
    "VIX = pd.DataFrame(VIX.VIX)"
   ]
  },
  {
   "cell_type": "code",
   "execution_count": 18,
   "metadata": {},
   "outputs": [],
   "source": [
    "#Merge the daily Index, the Bitcoin transactions and VIX\n",
    "dn_trans_VIX = dailynews_transactions.merge(VIX, left_index = True, right_index = True)"
   ]
  },
  {
   "cell_type": "code",
   "execution_count": 19,
   "metadata": {},
   "outputs": [
    {
     "data": {
      "text/html": [
       "<div>\n",
       "<style scoped>\n",
       "    .dataframe tbody tr th:only-of-type {\n",
       "        vertical-align: middle;\n",
       "    }\n",
       "\n",
       "    .dataframe tbody tr th {\n",
       "        vertical-align: top;\n",
       "    }\n",
       "\n",
       "    .dataframe thead th {\n",
       "        text-align: right;\n",
       "    }\n",
       "</style>\n",
       "<table border=\"1\" class=\"dataframe\">\n",
       "  <thead>\n",
       "    <tr style=\"text-align: right;\">\n",
       "      <th></th>\n",
       "      <th>EPU</th>\n",
       "      <th>transactions</th>\n",
       "      <th>VIX</th>\n",
       "    </tr>\n",
       "  </thead>\n",
       "  <tbody>\n",
       "    <tr>\n",
       "      <th>2019-12-31</th>\n",
       "      <td>105.75</td>\n",
       "      <td>293447.0</td>\n",
       "      <td>13.78</td>\n",
       "    </tr>\n",
       "    <tr>\n",
       "      <th>2020-01-02</th>\n",
       "      <td>139.13</td>\n",
       "      <td>295567.0</td>\n",
       "      <td>12.47</td>\n",
       "    </tr>\n",
       "    <tr>\n",
       "      <th>2020-01-03</th>\n",
       "      <td>108.10</td>\n",
       "      <td>316517.0</td>\n",
       "      <td>14.02</td>\n",
       "    </tr>\n",
       "    <tr>\n",
       "      <th>2020-01-06</th>\n",
       "      <td>147.96</td>\n",
       "      <td>299146.0</td>\n",
       "      <td>13.85</td>\n",
       "    </tr>\n",
       "    <tr>\n",
       "      <th>2020-01-07</th>\n",
       "      <td>103.98</td>\n",
       "      <td>344079.0</td>\n",
       "      <td>13.79</td>\n",
       "    </tr>\n",
       "  </tbody>\n",
       "</table>\n",
       "</div>"
      ],
      "text/plain": [
       "               EPU  transactions    VIX\n",
       "2019-12-31  105.75      293447.0  13.78\n",
       "2020-01-02  139.13      295567.0  12.47\n",
       "2020-01-03  108.10      316517.0  14.02\n",
       "2020-01-06  147.96      299146.0  13.85\n",
       "2020-01-07  103.98      344079.0  13.79"
      ]
     },
     "execution_count": 19,
     "metadata": {},
     "output_type": "execute_result"
    }
   ],
   "source": [
    "#Print head\n",
    "dn_trans_VIX.head()"
   ]
  },
  {
   "cell_type": "code",
   "execution_count": 20,
   "metadata": {},
   "outputs": [],
   "source": [
    "#Turn into Returns\n",
    "dn_trans_VIX_returns = dn_trans_VIX.copy()\n",
    "for i in range(1,len(dn_trans_VIX+1)):\n",
    "    dn_trans_VIX_returns.iloc[i] = np.log(dn_trans_VIX.iloc[i]/dn_trans_VIX.iloc[i-1])\n",
    "dn_trans_VIX_returns = dn_trans_VIX_returns[1:]"
   ]
  },
  {
   "cell_type": "code",
   "execution_count": 21,
   "metadata": {},
   "outputs": [
    {
     "data": {
      "text/html": [
       "<div>\n",
       "<style scoped>\n",
       "    .dataframe tbody tr th:only-of-type {\n",
       "        vertical-align: middle;\n",
       "    }\n",
       "\n",
       "    .dataframe tbody tr th {\n",
       "        vertical-align: top;\n",
       "    }\n",
       "\n",
       "    .dataframe thead th {\n",
       "        text-align: right;\n",
       "    }\n",
       "</style>\n",
       "<table border=\"1\" class=\"dataframe\">\n",
       "  <thead>\n",
       "    <tr style=\"text-align: right;\">\n",
       "      <th></th>\n",
       "      <th>EPU</th>\n",
       "      <th>transactions</th>\n",
       "      <th>VIX</th>\n",
       "    </tr>\n",
       "  </thead>\n",
       "  <tbody>\n",
       "    <tr>\n",
       "      <th>2020-01-02</th>\n",
       "      <td>0.274331</td>\n",
       "      <td>0.007199</td>\n",
       "      <td>-0.099893</td>\n",
       "    </tr>\n",
       "    <tr>\n",
       "      <th>2020-01-03</th>\n",
       "      <td>-0.252352</td>\n",
       "      <td>0.068481</td>\n",
       "      <td>0.117159</td>\n",
       "    </tr>\n",
       "    <tr>\n",
       "      <th>2020-01-06</th>\n",
       "      <td>0.313885</td>\n",
       "      <td>-0.056445</td>\n",
       "      <td>-0.012200</td>\n",
       "    </tr>\n",
       "    <tr>\n",
       "      <th>2020-01-07</th>\n",
       "      <td>-0.352743</td>\n",
       "      <td>0.139940</td>\n",
       "      <td>-0.004342</td>\n",
       "    </tr>\n",
       "    <tr>\n",
       "      <th>2020-01-08</th>\n",
       "      <td>-0.131692</td>\n",
       "      <td>-0.078760</td>\n",
       "      <td>-0.024965</td>\n",
       "    </tr>\n",
       "  </tbody>\n",
       "</table>\n",
       "</div>"
      ],
      "text/plain": [
       "                 EPU  transactions       VIX\n",
       "2020-01-02  0.274331      0.007199 -0.099893\n",
       "2020-01-03 -0.252352      0.068481  0.117159\n",
       "2020-01-06  0.313885     -0.056445 -0.012200\n",
       "2020-01-07 -0.352743      0.139940 -0.004342\n",
       "2020-01-08 -0.131692     -0.078760 -0.024965"
      ]
     },
     "execution_count": 21,
     "metadata": {},
     "output_type": "execute_result"
    }
   ],
   "source": [
    "#Print return\n",
    "dn_trans_VIX_returns.head()"
   ]
  },
  {
   "cell_type": "markdown",
   "metadata": {},
   "source": [
    "### Factor 8 + 9\n",
    "D_infections_volatility_tracker + DOW JONES GLOBAL_DJUSCA"
   ]
  },
  {
   "cell_type": "code",
   "execution_count": 22,
   "metadata": {
    "scrolled": true
   },
   "outputs": [],
   "source": [
    "#Import D_infections_volatility_tracker\n",
    "path = os.path.join('data','D_infections_volatility_tracker.xlsx')\n",
    "df_InfVol = pd.read_excel(path)\n",
    "df_EMV= df_InfVol.drop(columns=['day', 'month', 'year'])\n",
    "df_emv= df_EMV.set_index('date')"
   ]
  },
  {
   "cell_type": "code",
   "execution_count": 23,
   "metadata": {},
   "outputs": [
    {
     "data": {
      "text/html": [
       "<div>\n",
       "<style scoped>\n",
       "    .dataframe tbody tr th:only-of-type {\n",
       "        vertical-align: middle;\n",
       "    }\n",
       "\n",
       "    .dataframe tbody tr th {\n",
       "        vertical-align: top;\n",
       "    }\n",
       "\n",
       "    .dataframe thead th {\n",
       "        text-align: right;\n",
       "    }\n",
       "</style>\n",
       "<table border=\"1\" class=\"dataframe\">\n",
       "  <thead>\n",
       "    <tr style=\"text-align: right;\">\n",
       "      <th></th>\n",
       "      <th>daily_infect_emv_index</th>\n",
       "    </tr>\n",
       "    <tr>\n",
       "      <th>date</th>\n",
       "      <th></th>\n",
       "    </tr>\n",
       "  </thead>\n",
       "  <tbody>\n",
       "    <tr>\n",
       "      <th>2020-01-01</th>\n",
       "      <td>1.89</td>\n",
       "    </tr>\n",
       "    <tr>\n",
       "      <th>2020-01-02</th>\n",
       "      <td>2.84</td>\n",
       "    </tr>\n",
       "    <tr>\n",
       "      <th>2020-01-03</th>\n",
       "      <td>1.33</td>\n",
       "    </tr>\n",
       "    <tr>\n",
       "      <th>2020-01-04</th>\n",
       "      <td>0.00</td>\n",
       "    </tr>\n",
       "    <tr>\n",
       "      <th>2020-01-05</th>\n",
       "      <td>0.86</td>\n",
       "    </tr>\n",
       "  </tbody>\n",
       "</table>\n",
       "</div>"
      ],
      "text/plain": [
       "            daily_infect_emv_index\n",
       "date                              \n",
       "2020-01-01                    1.89\n",
       "2020-01-02                    2.84\n",
       "2020-01-03                    1.33\n",
       "2020-01-04                    0.00\n",
       "2020-01-05                    0.86"
      ]
     },
     "execution_count": 23,
     "metadata": {},
     "output_type": "execute_result"
    }
   ],
   "source": [
    "df_emv.head()"
   ]
  },
  {
   "cell_type": "code",
   "execution_count": 24,
   "metadata": {
    "scrolled": false
   },
   "outputs": [
    {
     "name": "stderr",
     "output_type": "stream",
     "text": [
      "/Users/nezasmid/opt/anaconda3/lib/python3.8/site-packages/pandas/core/frame.py:4441: SettingWithCopyWarning: \n",
      "A value is trying to be set on a copy of a slice from a DataFrame\n",
      "\n",
      "See the caveats in the documentation: https://pandas.pydata.org/pandas-docs/stable/user_guide/indexing.html#returning-a-view-versus-a-copy\n",
      "  return super().rename(\n",
      "<ipython-input-24-9316d9ac326a>:6: SettingWithCopyWarning: \n",
      "A value is trying to be set on a copy of a slice from a DataFrame.\n",
      "Try using .loc[row_indexer,col_indexer] = value instead\n",
      "\n",
      "See the caveats in the documentation: https://pandas.pydata.org/pandas-docs/stable/user_guide/indexing.html#returning-a-view-versus-a-copy\n",
      "  df_DOWJG['Date'] = pd.to_datetime(df_DOWJG['Date'])\n"
     ]
    }
   ],
   "source": [
    "#Import DOW JONES GLOBAL_DJUSCA\n",
    "path = os.path.join('data','DOW JONES GLOBAL_DJUSCA.csv')\n",
    "df_DOWJ = pd.read_csv(path)\n",
    "df_DOWJG= df_DOWJ[[\"Close\", \"Date\"]]\n",
    "df_DOWJG.rename(columns = {'Close': 'DOWJ'}, inplace=True)\n",
    "df_DOWJG['Date'] = pd.to_datetime(df_DOWJG['Date'])\n",
    "df_DOW=df_DOWJG.set_index('Date')\n",
    "df_DOW.sort_values(by= 'Date', axis=0, ascending=True, inplace=True)\n",
    "df_dow = pd.to_numeric(df_DOW['DOWJ'], errors='coerce')"
   ]
  },
  {
   "cell_type": "code",
   "execution_count": 25,
   "metadata": {},
   "outputs": [
    {
     "data": {
      "text/plain": [
       "Date\n",
       "2020-01-02    935.13\n",
       "2020-01-03    923.15\n",
       "2020-01-06    922.07\n",
       "2020-01-07    923.21\n",
       "2020-01-08    931.08\n",
       "Name: DOWJ, dtype: float64"
      ]
     },
     "execution_count": 25,
     "metadata": {},
     "output_type": "execute_result"
    }
   ],
   "source": [
    "df_dow.head()"
   ]
  },
  {
   "cell_type": "code",
   "execution_count": 26,
   "metadata": {},
   "outputs": [],
   "source": [
    "df303 = dn_trans_VIX.merge(df_dow, left_index = True, right_index = True)\n",
    "df404 = df303.merge(df_emv, left_index = True, right_index = True)"
   ]
  },
  {
   "cell_type": "code",
   "execution_count": 27,
   "metadata": {
    "scrolled": true
   },
   "outputs": [
    {
     "data": {
      "text/html": [
       "<div>\n",
       "<style scoped>\n",
       "    .dataframe tbody tr th:only-of-type {\n",
       "        vertical-align: middle;\n",
       "    }\n",
       "\n",
       "    .dataframe tbody tr th {\n",
       "        vertical-align: top;\n",
       "    }\n",
       "\n",
       "    .dataframe thead th {\n",
       "        text-align: right;\n",
       "    }\n",
       "</style>\n",
       "<table border=\"1\" class=\"dataframe\">\n",
       "  <thead>\n",
       "    <tr style=\"text-align: right;\">\n",
       "      <th></th>\n",
       "      <th>EPU</th>\n",
       "      <th>transactions</th>\n",
       "      <th>VIX</th>\n",
       "      <th>DOWJ</th>\n",
       "      <th>daily_infect_emv_index</th>\n",
       "    </tr>\n",
       "  </thead>\n",
       "  <tbody>\n",
       "    <tr>\n",
       "      <th>2020-01-02</th>\n",
       "      <td>139.13</td>\n",
       "      <td>295567.0</td>\n",
       "      <td>12.47</td>\n",
       "      <td>935.13</td>\n",
       "      <td>2.84</td>\n",
       "    </tr>\n",
       "    <tr>\n",
       "      <th>2020-01-03</th>\n",
       "      <td>108.10</td>\n",
       "      <td>316517.0</td>\n",
       "      <td>14.02</td>\n",
       "      <td>923.15</td>\n",
       "      <td>1.33</td>\n",
       "    </tr>\n",
       "    <tr>\n",
       "      <th>2020-01-06</th>\n",
       "      <td>147.96</td>\n",
       "      <td>299146.0</td>\n",
       "      <td>13.85</td>\n",
       "      <td>922.07</td>\n",
       "      <td>0.99</td>\n",
       "    </tr>\n",
       "    <tr>\n",
       "      <th>2020-01-07</th>\n",
       "      <td>103.98</td>\n",
       "      <td>344079.0</td>\n",
       "      <td>13.79</td>\n",
       "      <td>923.21</td>\n",
       "      <td>0.00</td>\n",
       "    </tr>\n",
       "    <tr>\n",
       "      <th>2020-01-08</th>\n",
       "      <td>91.15</td>\n",
       "      <td>318019.0</td>\n",
       "      <td>13.45</td>\n",
       "      <td>931.08</td>\n",
       "      <td>0.56</td>\n",
       "    </tr>\n",
       "  </tbody>\n",
       "</table>\n",
       "</div>"
      ],
      "text/plain": [
       "               EPU  transactions    VIX    DOWJ  daily_infect_emv_index\n",
       "2020-01-02  139.13      295567.0  12.47  935.13                    2.84\n",
       "2020-01-03  108.10      316517.0  14.02  923.15                    1.33\n",
       "2020-01-06  147.96      299146.0  13.85  922.07                    0.99\n",
       "2020-01-07  103.98      344079.0  13.79  923.21                    0.00\n",
       "2020-01-08   91.15      318019.0  13.45  931.08                    0.56"
      ]
     },
     "execution_count": 27,
     "metadata": {},
     "output_type": "execute_result"
    }
   ],
   "source": [
    "df404.head()"
   ]
  },
  {
   "cell_type": "code",
   "execution_count": 28,
   "metadata": {
    "scrolled": true
   },
   "outputs": [],
   "source": [
    "#Transform into returns\n",
    "df_merge_returns = df303.copy()\n",
    "for i in range(1,len(df303+1)):\n",
    "    df_merge_returns.iloc[i] = np.log(df303.iloc[i]/df303.iloc[i-1])\n",
    "df_merge_returns = df_merge_returns[1:]"
   ]
  },
  {
   "cell_type": "code",
   "execution_count": 29,
   "metadata": {},
   "outputs": [],
   "source": [
    "df_all= df_merge_returns.merge(df_emv, left_index=True, right_index=True)"
   ]
  },
  {
   "cell_type": "code",
   "execution_count": 30,
   "metadata": {
    "scrolled": true
   },
   "outputs": [
    {
     "data": {
      "text/plain": [
       "<AxesSubplot:>"
      ]
     },
     "execution_count": 30,
     "metadata": {},
     "output_type": "execute_result"
    },
    {
     "data": {
      "image/png": "[encoded data removed]",
      "text/plain": [
       "<Figure size 432x288 with 1 Axes>"
      ]
     },
     "metadata": {
      "needs_background": "light"
     },
     "output_type": "display_data"
    }
   ],
   "source": [
    "df_merge_returns.plot()"
   ]
  },
  {
   "cell_type": "markdown",
   "metadata": {},
   "source": [
    "I think for the daily infectious diseasse tracker, we cant take log --> it will divide somethin with 0 and the result will be nan/-inf. So for that i thik its better to standardize, but for all others i think it is fine."
   ]
  },
  {
   "cell_type": "markdown",
   "metadata": {},
   "source": [
    "### Factor 10-12\n",
    "Exchange rates"
   ]
  },
  {
   "cell_type": "code",
   "execution_count": 31,
   "metadata": {},
   "outputs": [],
   "source": [
    "#Import Exchange rate Romania\n",
    "romania = os.path.join('data','USD_RON_.csv')\n",
    "df_romania = pd.read_csv(romania)\n",
    "df_romania['Date'] = pd.to_datetime(df_romania['Date'])\n",
    "df_romania=df_romania.set_index('Date')\n",
    "\n",
    "#Delete the percentage sign\n",
    "df_romania['Change %'] = list(map(lambda x: x[:-1], df_romania['Change %'].values))\n",
    "\n",
    "#Rename\n",
    "df_romania.rename(columns = {'Change %': 'USD_RON Change %'}, inplace=True)"
   ]
  },
  {
   "cell_type": "code",
   "execution_count": 32,
   "metadata": {
    "scrolled": true
   },
   "outputs": [
    {
     "data": {
      "text/html": [
       "<div>\n",
       "<style scoped>\n",
       "    .dataframe tbody tr th:only-of-type {\n",
       "        vertical-align: middle;\n",
       "    }\n",
       "\n",
       "    .dataframe tbody tr th {\n",
       "        vertical-align: top;\n",
       "    }\n",
       "\n",
       "    .dataframe thead th {\n",
       "        text-align: right;\n",
       "    }\n",
       "</style>\n",
       "<table border=\"1\" class=\"dataframe\">\n",
       "  <thead>\n",
       "    <tr style=\"text-align: right;\">\n",
       "      <th></th>\n",
       "      <th>USD_RON Change %</th>\n",
       "    </tr>\n",
       "    <tr>\n",
       "      <th>Date</th>\n",
       "      <th></th>\n",
       "    </tr>\n",
       "  </thead>\n",
       "  <tbody>\n",
       "    <tr>\n",
       "      <th>2022-01-20</th>\n",
       "      <td>-0.13</td>\n",
       "    </tr>\n",
       "    <tr>\n",
       "      <th>2022-01-19</th>\n",
       "      <td>-0.14</td>\n",
       "    </tr>\n",
       "    <tr>\n",
       "      <th>2022-01-18</th>\n",
       "      <td>0.73</td>\n",
       "    </tr>\n",
       "    <tr>\n",
       "      <th>2022-01-17</th>\n",
       "      <td>0.07</td>\n",
       "    </tr>\n",
       "    <tr>\n",
       "      <th>2022-01-14</th>\n",
       "      <td>0.35</td>\n",
       "    </tr>\n",
       "  </tbody>\n",
       "</table>\n",
       "</div>"
      ],
      "text/plain": [
       "           USD_RON Change %\n",
       "Date                       \n",
       "2022-01-20           -0.13 \n",
       "2022-01-19           -0.14 \n",
       "2022-01-18            0.73 \n",
       "2022-01-17            0.07 \n",
       "2022-01-14            0.35 "
      ]
     },
     "execution_count": 32,
     "metadata": {},
     "output_type": "execute_result"
    }
   ],
   "source": [
    "df_romania.head()"
   ]
  },
  {
   "cell_type": "code",
   "execution_count": 33,
   "metadata": {},
   "outputs": [],
   "source": [
    "#Import Exchange rate India\n",
    "india = os.path.join('data','USD_INR.csv')\n",
    "df_india = pd.read_csv(india)\n",
    "df_india['Date'] = pd.to_datetime(df_india['Date'])\n",
    "df_india=df_india.set_index('Date')\n",
    "\n",
    "#Delete the percentage sign\n",
    "df_india['Change %'] = list(map(lambda x: x[:-1], df_india['Change %'].values))\n",
    "\n",
    "#Rename\n",
    "df_india.rename(columns = {'Change %': 'USD_INR Change %'}, inplace=True)"
   ]
  },
  {
   "cell_type": "code",
   "execution_count": 34,
   "metadata": {},
   "outputs": [
    {
     "data": {
      "text/html": [
       "<div>\n",
       "<style scoped>\n",
       "    .dataframe tbody tr th:only-of-type {\n",
       "        vertical-align: middle;\n",
       "    }\n",
       "\n",
       "    .dataframe tbody tr th {\n",
       "        vertical-align: top;\n",
       "    }\n",
       "\n",
       "    .dataframe thead th {\n",
       "        text-align: right;\n",
       "    }\n",
       "</style>\n",
       "<table border=\"1\" class=\"dataframe\">\n",
       "  <thead>\n",
       "    <tr style=\"text-align: right;\">\n",
       "      <th></th>\n",
       "      <th>USD_INR Change %</th>\n",
       "    </tr>\n",
       "    <tr>\n",
       "      <th>Date</th>\n",
       "      <th></th>\n",
       "    </tr>\n",
       "  </thead>\n",
       "  <tbody>\n",
       "    <tr>\n",
       "      <th>2022-01-20</th>\n",
       "      <td>-0.07</td>\n",
       "    </tr>\n",
       "    <tr>\n",
       "      <th>2022-01-19</th>\n",
       "      <td>-0.18</td>\n",
       "    </tr>\n",
       "    <tr>\n",
       "      <th>2022-01-18</th>\n",
       "      <td>0.43</td>\n",
       "    </tr>\n",
       "    <tr>\n",
       "      <th>2022-01-17</th>\n",
       "      <td>0.12</td>\n",
       "    </tr>\n",
       "    <tr>\n",
       "      <th>2022-01-14</th>\n",
       "      <td>0.26</td>\n",
       "    </tr>\n",
       "  </tbody>\n",
       "</table>\n",
       "</div>"
      ],
      "text/plain": [
       "           USD_INR Change %\n",
       "Date                       \n",
       "2022-01-20           -0.07 \n",
       "2022-01-19           -0.18 \n",
       "2022-01-18            0.43 \n",
       "2022-01-17            0.12 \n",
       "2022-01-14            0.26 "
      ]
     },
     "execution_count": 34,
     "metadata": {},
     "output_type": "execute_result"
    }
   ],
   "source": [
    "df_india.head()"
   ]
  },
  {
   "cell_type": "code",
   "execution_count": 35,
   "metadata": {},
   "outputs": [],
   "source": [
    "#Import Exchange rate kazakhstan\n",
    "kazakhstan = os.path.join('data','USD_KZT_.csv')\n",
    "df_kazakhstan = pd.read_csv(kazakhstan)\n",
    "df_kazakhstan['Date'] = pd.to_datetime(df_kazakhstan['Date'])\n",
    "df_kazakhstan=df_kazakhstan.set_index('Date')\n",
    "\n",
    "#Delete the percentage sign\n",
    "df_kazakhstan['Change %'] = list(map(lambda x: x[:-1], df_kazakhstan['Change %'].values))\n",
    "\n",
    "#Rename\n",
    "df_kazakhstan.rename(columns = {'Change %': 'USD_KZT Change %'}, inplace=True)"
   ]
  },
  {
   "cell_type": "code",
   "execution_count": 36,
   "metadata": {
    "scrolled": true
   },
   "outputs": [
    {
     "data": {
      "text/html": [
       "<div>\n",
       "<style scoped>\n",
       "    .dataframe tbody tr th:only-of-type {\n",
       "        vertical-align: middle;\n",
       "    }\n",
       "\n",
       "    .dataframe tbody tr th {\n",
       "        vertical-align: top;\n",
       "    }\n",
       "\n",
       "    .dataframe thead th {\n",
       "        text-align: right;\n",
       "    }\n",
       "</style>\n",
       "<table border=\"1\" class=\"dataframe\">\n",
       "  <thead>\n",
       "    <tr style=\"text-align: right;\">\n",
       "      <th></th>\n",
       "      <th>USD_KZT Change %</th>\n",
       "    </tr>\n",
       "    <tr>\n",
       "      <th>Date</th>\n",
       "      <th></th>\n",
       "    </tr>\n",
       "  </thead>\n",
       "  <tbody>\n",
       "    <tr>\n",
       "      <th>2022-01-20</th>\n",
       "      <td>-0.14</td>\n",
       "    </tr>\n",
       "    <tr>\n",
       "      <th>2022-01-19</th>\n",
       "      <td>0.16</td>\n",
       "    </tr>\n",
       "    <tr>\n",
       "      <th>2022-01-18</th>\n",
       "      <td>0.09</td>\n",
       "    </tr>\n",
       "    <tr>\n",
       "      <th>2022-01-17</th>\n",
       "      <td>0.03</td>\n",
       "    </tr>\n",
       "    <tr>\n",
       "      <th>2022-01-14</th>\n",
       "      <td>0.10</td>\n",
       "    </tr>\n",
       "  </tbody>\n",
       "</table>\n",
       "</div>"
      ],
      "text/plain": [
       "           USD_KZT Change %\n",
       "Date                       \n",
       "2022-01-20           -0.14 \n",
       "2022-01-19            0.16 \n",
       "2022-01-18            0.09 \n",
       "2022-01-17            0.03 \n",
       "2022-01-14            0.10 "
      ]
     },
     "execution_count": 36,
     "metadata": {},
     "output_type": "execute_result"
    }
   ],
   "source": [
    "#Print head\n",
    "df_kazakhstan.head()"
   ]
  },
  {
   "cell_type": "code",
   "execution_count": 37,
   "metadata": {},
   "outputs": [],
   "source": [
    "dfs_join= df_kazakhstan.merge(df_india,on='Date').merge(df_romania ,on='Date')\n",
    "dfs_currency= dfs_join.astype(float)"
   ]
  },
  {
   "cell_type": "markdown",
   "metadata": {},
   "source": [
    "### Factor 13 CRIX"
   ]
  },
  {
   "cell_type": "code",
   "execution_count": 38,
   "metadata": {
    "scrolled": true
   },
   "outputs": [
    {
     "data": {
      "text/html": [
       "<div>\n",
       "<style scoped>\n",
       "    .dataframe tbody tr th:only-of-type {\n",
       "        vertical-align: middle;\n",
       "    }\n",
       "\n",
       "    .dataframe tbody tr th {\n",
       "        vertical-align: top;\n",
       "    }\n",
       "\n",
       "    .dataframe thead th {\n",
       "        text-align: right;\n",
       "    }\n",
       "</style>\n",
       "<table border=\"1\" class=\"dataframe\">\n",
       "  <thead>\n",
       "    <tr style=\"text-align: right;\">\n",
       "      <th></th>\n",
       "      <th>CRIX</th>\n",
       "    </tr>\n",
       "    <tr>\n",
       "      <th>date</th>\n",
       "      <th></th>\n",
       "    </tr>\n",
       "  </thead>\n",
       "  <tbody>\n",
       "    <tr>\n",
       "      <th>2020-01-01</th>\n",
       "      <td>530.40</td>\n",
       "    </tr>\n",
       "    <tr>\n",
       "      <th>2020-01-02</th>\n",
       "      <td>509.33</td>\n",
       "    </tr>\n",
       "    <tr>\n",
       "      <th>2020-01-03</th>\n",
       "      <td>538.09</td>\n",
       "    </tr>\n",
       "    <tr>\n",
       "      <th>2020-01-06</th>\n",
       "      <td>560.83</td>\n",
       "    </tr>\n",
       "    <tr>\n",
       "      <th>2020-01-07</th>\n",
       "      <td>599.78</td>\n",
       "    </tr>\n",
       "  </tbody>\n",
       "</table>\n",
       "</div>"
      ],
      "text/plain": [
       "              CRIX\n",
       "date              \n",
       "2020-01-01  530.40\n",
       "2020-01-02  509.33\n",
       "2020-01-03  538.09\n",
       "2020-01-06  560.83\n",
       "2020-01-07  599.78"
      ]
     },
     "execution_count": 38,
     "metadata": {},
     "output_type": "execute_result"
    }
   ],
   "source": [
    "CRIX = os.path.join('data','PerformanceGraphExport.xls')\n",
    "df_CRIX = pd.read_excel(CRIX)\n",
    "df_CRIX.set_axis([\"date\", \"CRIX\"], axis=1, inplace=True)\n",
    "df_crix= df_CRIX.set_index('date')\n",
    "df_crix.head()"
   ]
  },
  {
   "cell_type": "code",
   "execution_count": 81,
   "metadata": {},
   "outputs": [],
   "source": [
    "df505= dfs_currency.merge(df404, left_index=True, \n",
    "                          right_index=True).merge(df_crix, left_index=True, right_index=True).merge(yahoofin_IR,\n",
    "                                                                                                   left_index=True, right_index=True)"
   ]
  },
  {
   "cell_type": "code",
   "execution_count": 82,
   "metadata": {},
   "outputs": [
    {
     "data": {
      "text/html": [
       "<div>\n",
       "<style scoped>\n",
       "    .dataframe tbody tr th:only-of-type {\n",
       "        vertical-align: middle;\n",
       "    }\n",
       "\n",
       "    .dataframe tbody tr th {\n",
       "        vertical-align: top;\n",
       "    }\n",
       "\n",
       "    .dataframe thead th {\n",
       "        text-align: right;\n",
       "    }\n",
       "</style>\n",
       "<table border=\"1\" class=\"dataframe\">\n",
       "  <thead>\n",
       "    <tr style=\"text-align: right;\">\n",
       "      <th></th>\n",
       "      <th>USD_KZT Change %</th>\n",
       "      <th>USD_INR Change %</th>\n",
       "      <th>USD_RON Change %</th>\n",
       "      <th>EPU</th>\n",
       "      <th>transactions</th>\n",
       "      <th>VIX</th>\n",
       "      <th>DOWJ</th>\n",
       "      <th>daily_infect_emv_index</th>\n",
       "      <th>CRIX</th>\n",
       "      <th>GOLD</th>\n",
       "      <th>OIL</th>\n",
       "      <th>SP500</th>\n",
       "      <th>IR</th>\n",
       "    </tr>\n",
       "  </thead>\n",
       "  <tbody>\n",
       "    <tr>\n",
       "      <th>2020-01-02</th>\n",
       "      <td>0.00</td>\n",
       "      <td>0.16</td>\n",
       "      <td>0.13</td>\n",
       "      <td>139.13</td>\n",
       "      <td>295567.0</td>\n",
       "      <td>12.47</td>\n",
       "      <td>935.13</td>\n",
       "      <td>2.84</td>\n",
       "      <td>509.33</td>\n",
       "      <td>1524.500000</td>\n",
       "      <td>61.180000</td>\n",
       "      <td>3257.850098</td>\n",
       "      <td>0.0155</td>\n",
       "    </tr>\n",
       "    <tr>\n",
       "      <th>2020-01-03</th>\n",
       "      <td>0.00</td>\n",
       "      <td>0.59</td>\n",
       "      <td>-0.07</td>\n",
       "      <td>108.10</td>\n",
       "      <td>316517.0</td>\n",
       "      <td>14.02</td>\n",
       "      <td>923.15</td>\n",
       "      <td>1.33</td>\n",
       "      <td>538.09</td>\n",
       "      <td>1549.199951</td>\n",
       "      <td>63.049999</td>\n",
       "      <td>3234.850098</td>\n",
       "      <td>0.0155</td>\n",
       "    </tr>\n",
       "    <tr>\n",
       "      <th>2020-01-06</th>\n",
       "      <td>-0.57</td>\n",
       "      <td>0.14</td>\n",
       "      <td>-0.24</td>\n",
       "      <td>147.96</td>\n",
       "      <td>299146.0</td>\n",
       "      <td>13.85</td>\n",
       "      <td>922.07</td>\n",
       "      <td>0.99</td>\n",
       "      <td>560.83</td>\n",
       "      <td>1566.199951</td>\n",
       "      <td>63.270000</td>\n",
       "      <td>3246.280029</td>\n",
       "      <td>0.0155</td>\n",
       "    </tr>\n",
       "    <tr>\n",
       "      <th>2020-01-07</th>\n",
       "      <td>0.02</td>\n",
       "      <td>-0.03</td>\n",
       "      <td>0.45</td>\n",
       "      <td>103.98</td>\n",
       "      <td>344079.0</td>\n",
       "      <td>13.79</td>\n",
       "      <td>923.21</td>\n",
       "      <td>0.00</td>\n",
       "      <td>599.78</td>\n",
       "      <td>1571.800049</td>\n",
       "      <td>62.700001</td>\n",
       "      <td>3237.179932</td>\n",
       "      <td>0.0155</td>\n",
       "    </tr>\n",
       "    <tr>\n",
       "      <th>2020-01-08</th>\n",
       "      <td>-0.70</td>\n",
       "      <td>-0.46</td>\n",
       "      <td>0.39</td>\n",
       "      <td>91.15</td>\n",
       "      <td>318019.0</td>\n",
       "      <td>13.45</td>\n",
       "      <td>931.08</td>\n",
       "      <td>0.56</td>\n",
       "      <td>585.92</td>\n",
       "      <td>1557.400024</td>\n",
       "      <td>59.610001</td>\n",
       "      <td>3253.050049</td>\n",
       "      <td>0.0155</td>\n",
       "    </tr>\n",
       "  </tbody>\n",
       "</table>\n",
       "</div>"
      ],
      "text/plain": [
       "            USD_KZT Change %  USD_INR Change %  USD_RON Change %     EPU  \\\n",
       "2020-01-02              0.00              0.16              0.13  139.13   \n",
       "2020-01-03              0.00              0.59             -0.07  108.10   \n",
       "2020-01-06             -0.57              0.14             -0.24  147.96   \n",
       "2020-01-07              0.02             -0.03              0.45  103.98   \n",
       "2020-01-08             -0.70             -0.46              0.39   91.15   \n",
       "\n",
       "            transactions    VIX    DOWJ  daily_infect_emv_index    CRIX  \\\n",
       "2020-01-02      295567.0  12.47  935.13                    2.84  509.33   \n",
       "2020-01-03      316517.0  14.02  923.15                    1.33  538.09   \n",
       "2020-01-06      299146.0  13.85  922.07                    0.99  560.83   \n",
       "2020-01-07      344079.0  13.79  923.21                    0.00  599.78   \n",
       "2020-01-08      318019.0  13.45  931.08                    0.56  585.92   \n",
       "\n",
       "                   GOLD        OIL        SP500      IR  \n",
       "2020-01-02  1524.500000  61.180000  3257.850098  0.0155  \n",
       "2020-01-03  1549.199951  63.049999  3234.850098  0.0155  \n",
       "2020-01-06  1566.199951  63.270000  3246.280029  0.0155  \n",
       "2020-01-07  1571.800049  62.700001  3237.179932  0.0155  \n",
       "2020-01-08  1557.400024  59.610001  3253.050049  0.0155  "
      ]
     },
     "execution_count": 82,
     "metadata": {},
     "output_type": "execute_result"
    }
   ],
   "source": [
    "df505.head()"
   ]
  },
  {
   "cell_type": "markdown",
   "metadata": {},
   "source": [
    "------------------------------------------------------------------------------------------------------------------"
   ]
  },
  {
   "cell_type": "markdown",
   "metadata": {},
   "source": [
    "### Factor 14-15\n",
    "\n",
    "BTC price + google trend for Bitcoin in US"
   ]
  },
  {
   "cell_type": "code",
   "execution_count": 43,
   "metadata": {},
   "outputs": [],
   "source": [
    "#pip install pytrends"
   ]
  },
  {
   "cell_type": "code",
   "execution_count": 44,
   "metadata": {},
   "outputs": [
    {
     "name": "stdout",
     "output_type": "stream",
     "text": [
      "Bitcoin:2020-01-01 2020-01-31\n",
      "Bitcoin:2020-02-01 2020-02-29\n",
      "Bitcoin:2020-03-01 2020-03-31\n",
      "Bitcoin:2020-04-01 2020-04-30\n",
      "Bitcoin:2020-05-01 2020-05-31\n",
      "Bitcoin:2020-06-01 2020-06-30\n",
      "Bitcoin:2020-07-01 2020-07-31\n",
      "Bitcoin:2020-08-01 2020-08-31\n",
      "Bitcoin:2020-09-01 2020-09-30\n",
      "Bitcoin:2020-10-01 2020-10-31\n",
      "Bitcoin:2020-11-01 2020-11-30\n",
      "Bitcoin:2020-12-01 2020-12-31\n",
      "Bitcoin:2021-01-01 2021-01-31\n",
      "Bitcoin:2021-02-01 2021-02-28\n",
      "Bitcoin:2021-03-01 2021-03-31\n",
      "Bitcoin:2021-04-01 2021-04-30\n",
      "Bitcoin:2021-05-01 2021-05-31\n",
      "Bitcoin:2021-06-01 2021-06-30\n",
      "Bitcoin:2021-07-01 2021-07-31\n",
      "Bitcoin:2021-08-01 2021-08-31\n",
      "Bitcoin:2021-09-01 2021-09-30\n",
      "Bitcoin:2021-10-01 2021-10-31\n",
      "Bitcoin:2021-11-01 2021-11-30\n",
      "Bitcoin:2021-12-01 2021-12-31\n",
      "Bitcoin:2022-01-01 2022-01-31\n"
     ]
    }
   ],
   "source": [
    "from pytrends.request import TrendReq\n",
    "from pytrends import dailydata\n",
    "\n",
    "Bitcoin_df = dailydata.get_daily_data('Bitcoin', 2020, 1, 2022, 1, geo = 'US')"
   ]
  },
  {
   "cell_type": "code",
   "execution_count": 51,
   "metadata": {
    "scrolled": false
   },
   "outputs": [
    {
     "data": {
      "text/html": [
       "<div>\n",
       "<style scoped>\n",
       "    .dataframe tbody tr th:only-of-type {\n",
       "        vertical-align: middle;\n",
       "    }\n",
       "\n",
       "    .dataframe tbody tr th {\n",
       "        vertical-align: top;\n",
       "    }\n",
       "\n",
       "    .dataframe thead th {\n",
       "        text-align: right;\n",
       "    }\n",
       "</style>\n",
       "<table border=\"1\" class=\"dataframe\">\n",
       "  <thead>\n",
       "    <tr style=\"text-align: right;\">\n",
       "      <th></th>\n",
       "      <th>Bitcoin_unscaled</th>\n",
       "      <th>Bitcoin_monthly</th>\n",
       "      <th>isPartial</th>\n",
       "      <th>scale</th>\n",
       "      <th>Bitcoin</th>\n",
       "    </tr>\n",
       "    <tr>\n",
       "      <th>date</th>\n",
       "      <th></th>\n",
       "      <th></th>\n",
       "      <th></th>\n",
       "      <th></th>\n",
       "      <th></th>\n",
       "    </tr>\n",
       "  </thead>\n",
       "  <tbody>\n",
       "    <tr>\n",
       "      <th>2020-01-01</th>\n",
       "      <td>52</td>\n",
       "      <td>NaN</td>\n",
       "      <td>NaN</td>\n",
       "      <td>NaN</td>\n",
       "      <td>NaN</td>\n",
       "    </tr>\n",
       "    <tr>\n",
       "      <th>2020-01-02</th>\n",
       "      <td>55</td>\n",
       "      <td>NaN</td>\n",
       "      <td>NaN</td>\n",
       "      <td>NaN</td>\n",
       "      <td>NaN</td>\n",
       "    </tr>\n",
       "    <tr>\n",
       "      <th>2020-01-03</th>\n",
       "      <td>64</td>\n",
       "      <td>NaN</td>\n",
       "      <td>NaN</td>\n",
       "      <td>NaN</td>\n",
       "      <td>NaN</td>\n",
       "    </tr>\n",
       "    <tr>\n",
       "      <th>2020-01-04</th>\n",
       "      <td>71</td>\n",
       "      <td>NaN</td>\n",
       "      <td>NaN</td>\n",
       "      <td>NaN</td>\n",
       "      <td>NaN</td>\n",
       "    </tr>\n",
       "    <tr>\n",
       "      <th>2020-01-05</th>\n",
       "      <td>61</td>\n",
       "      <td>13.0</td>\n",
       "      <td>False</td>\n",
       "      <td>0.13</td>\n",
       "      <td>7.93</td>\n",
       "    </tr>\n",
       "  </tbody>\n",
       "</table>\n",
       "</div>"
      ],
      "text/plain": [
       "            Bitcoin_unscaled  Bitcoin_monthly isPartial  scale  Bitcoin\n",
       "date                                                                   \n",
       "2020-01-01                52              NaN       NaN    NaN      NaN\n",
       "2020-01-02                55              NaN       NaN    NaN      NaN\n",
       "2020-01-03                64              NaN       NaN    NaN      NaN\n",
       "2020-01-04                71              NaN       NaN    NaN      NaN\n",
       "2020-01-05                61             13.0     False   0.13     7.93"
      ]
     },
     "execution_count": 51,
     "metadata": {},
     "output_type": "execute_result"
    }
   ],
   "source": [
    "Bitcoin_df.head()"
   ]
  },
  {
   "cell_type": "code",
   "execution_count": 72,
   "metadata": {},
   "outputs": [],
   "source": [
    "path = os.path.join('data','BTC-USD-2.csv')\n",
    "df_data = pd.read_csv(path)\n",
    "df_data.drop(columns=['Open', 'High', 'Low', 'Adj Close', 'Volume'], inplace=True)\n",
    "df_data.rename(columns={\"Close\": \"BTC\"}, inplace=True)\n",
    "df_data['Date']=pd.to_datetime(df_data['Date'])"
   ]
  },
  {
   "cell_type": "code",
   "execution_count": 73,
   "metadata": {},
   "outputs": [],
   "source": [
    "df_btc=df_data.set_index('Date')"
   ]
  },
  {
   "cell_type": "code",
   "execution_count": 74,
   "metadata": {},
   "outputs": [],
   "source": [
    "returns_btc = df_btc.copy()\n",
    "for i in range(1,len(df_btc+1)):\n",
    "    returns_btc.iloc[i] = np.log(df_btc.iloc[i]/df_btc.iloc[i-1])\n",
    "returns_btc = returns_btc[1:]"
   ]
  },
  {
   "cell_type": "code",
   "execution_count": 75,
   "metadata": {
    "scrolled": true
   },
   "outputs": [
    {
     "data": {
      "text/html": [
       "<div>\n",
       "<style scoped>\n",
       "    .dataframe tbody tr th:only-of-type {\n",
       "        vertical-align: middle;\n",
       "    }\n",
       "\n",
       "    .dataframe tbody tr th {\n",
       "        vertical-align: top;\n",
       "    }\n",
       "\n",
       "    .dataframe thead th {\n",
       "        text-align: right;\n",
       "    }\n",
       "</style>\n",
       "<table border=\"1\" class=\"dataframe\">\n",
       "  <thead>\n",
       "    <tr style=\"text-align: right;\">\n",
       "      <th></th>\n",
       "      <th>BTC</th>\n",
       "    </tr>\n",
       "    <tr>\n",
       "      <th>Date</th>\n",
       "      <th></th>\n",
       "    </tr>\n",
       "  </thead>\n",
       "  <tbody>\n",
       "    <tr>\n",
       "      <th>2020-01-02</th>\n",
       "      <td>-0.030273</td>\n",
       "    </tr>\n",
       "    <tr>\n",
       "      <th>2020-01-03</th>\n",
       "      <td>0.050172</td>\n",
       "    </tr>\n",
       "    <tr>\n",
       "      <th>2020-01-04</th>\n",
       "      <td>0.008915</td>\n",
       "    </tr>\n",
       "    <tr>\n",
       "      <th>2020-01-05</th>\n",
       "      <td>0.000089</td>\n",
       "    </tr>\n",
       "    <tr>\n",
       "      <th>2020-01-06</th>\n",
       "      <td>0.047161</td>\n",
       "    </tr>\n",
       "  </tbody>\n",
       "</table>\n",
       "</div>"
      ],
      "text/plain": [
       "                 BTC\n",
       "Date                \n",
       "2020-01-02 -0.030273\n",
       "2020-01-03  0.050172\n",
       "2020-01-04  0.008915\n",
       "2020-01-05  0.000089\n",
       "2020-01-06  0.047161"
      ]
     },
     "execution_count": 75,
     "metadata": {},
     "output_type": "execute_result"
    }
   ],
   "source": [
    "returns_btc.head()"
   ]
  },
  {
   "cell_type": "markdown",
   "metadata": {},
   "source": [
    "------------------------------------------------------------------------------------------------------------------"
   ]
  },
  {
   "cell_type": "markdown",
   "metadata": {},
   "source": [
    "### Standardising Bitcoin data (changed from unscaled to Bitcoin)"
   ]
  },
  {
   "cell_type": "code",
   "execution_count": 76,
   "metadata": {},
   "outputs": [],
   "source": [
    "df_x = Bitcoin_df[[\"Bitcoin\"]]"
   ]
  },
  {
   "cell_type": "code",
   "execution_count": 77,
   "metadata": {},
   "outputs": [
    {
     "name": "stderr",
     "output_type": "stream",
     "text": [
      "<ipython-input-77-99f8a002d145>:1: SettingWithCopyWarning: \n",
      "A value is trying to be set on a copy of a slice from a DataFrame\n",
      "\n",
      "See the caveats in the documentation: https://pandas.pydata.org/pandas-docs/stable/user_guide/indexing.html#returning-a-view-versus-a-copy\n",
      "  df_x.dropna(inplace=True)\n"
     ]
    }
   ],
   "source": [
    "df_x.dropna(inplace=True)"
   ]
  },
  {
   "cell_type": "code",
   "execution_count": 78,
   "metadata": {},
   "outputs": [
    {
     "data": {
      "text/html": [
       "<div>\n",
       "<style scoped>\n",
       "    .dataframe tbody tr th:only-of-type {\n",
       "        vertical-align: middle;\n",
       "    }\n",
       "\n",
       "    .dataframe tbody tr th {\n",
       "        vertical-align: top;\n",
       "    }\n",
       "\n",
       "    .dataframe thead th {\n",
       "        text-align: right;\n",
       "    }\n",
       "</style>\n",
       "<table border=\"1\" class=\"dataframe\">\n",
       "  <thead>\n",
       "    <tr style=\"text-align: right;\">\n",
       "      <th></th>\n",
       "      <th>Bitcoin</th>\n",
       "    </tr>\n",
       "    <tr>\n",
       "      <th>date</th>\n",
       "      <th></th>\n",
       "    </tr>\n",
       "  </thead>\n",
       "  <tbody>\n",
       "    <tr>\n",
       "      <th>2020-01-05</th>\n",
       "      <td>7.93</td>\n",
       "    </tr>\n",
       "    <tr>\n",
       "      <th>2020-01-06</th>\n",
       "      <td>9.10</td>\n",
       "    </tr>\n",
       "    <tr>\n",
       "      <th>2020-01-07</th>\n",
       "      <td>11.44</td>\n",
       "    </tr>\n",
       "    <tr>\n",
       "      <th>2020-01-08</th>\n",
       "      <td>13.00</td>\n",
       "    </tr>\n",
       "    <tr>\n",
       "      <th>2020-01-09</th>\n",
       "      <td>9.49</td>\n",
       "    </tr>\n",
       "  </tbody>\n",
       "</table>\n",
       "</div>"
      ],
      "text/plain": [
       "            Bitcoin\n",
       "date               \n",
       "2020-01-05     7.93\n",
       "2020-01-06     9.10\n",
       "2020-01-07    11.44\n",
       "2020-01-08    13.00\n",
       "2020-01-09     9.49"
      ]
     },
     "execution_count": 78,
     "metadata": {},
     "output_type": "execute_result"
    }
   ],
   "source": [
    "df_x.head()"
   ]
  },
  {
   "cell_type": "code",
   "execution_count": 79,
   "metadata": {},
   "outputs": [
    {
     "data": {
      "text/html": [
       "<div>\n",
       "<style scoped>\n",
       "    .dataframe tbody tr th:only-of-type {\n",
       "        vertical-align: middle;\n",
       "    }\n",
       "\n",
       "    .dataframe tbody tr th {\n",
       "        vertical-align: top;\n",
       "    }\n",
       "\n",
       "    .dataframe thead th {\n",
       "        text-align: right;\n",
       "    }\n",
       "</style>\n",
       "<table border=\"1\" class=\"dataframe\">\n",
       "  <thead>\n",
       "    <tr style=\"text-align: right;\">\n",
       "      <th></th>\n",
       "      <th>Bitcoin</th>\n",
       "    </tr>\n",
       "    <tr>\n",
       "      <th>date</th>\n",
       "      <th></th>\n",
       "    </tr>\n",
       "  </thead>\n",
       "  <tbody>\n",
       "    <tr>\n",
       "      <th>2020-01-05</th>\n",
       "      <td>-0.808368</td>\n",
       "    </tr>\n",
       "    <tr>\n",
       "      <th>2020-01-06</th>\n",
       "      <td>-0.731600</td>\n",
       "    </tr>\n",
       "    <tr>\n",
       "      <th>2020-01-07</th>\n",
       "      <td>-0.578064</td>\n",
       "    </tr>\n",
       "    <tr>\n",
       "      <th>2020-01-08</th>\n",
       "      <td>-0.475706</td>\n",
       "    </tr>\n",
       "    <tr>\n",
       "      <th>2020-01-09</th>\n",
       "      <td>-0.706011</td>\n",
       "    </tr>\n",
       "  </tbody>\n",
       "</table>\n",
       "</div>"
      ],
      "text/plain": [
       "             Bitcoin\n",
       "date                \n",
       "2020-01-05 -0.808368\n",
       "2020-01-06 -0.731600\n",
       "2020-01-07 -0.578064\n",
       "2020-01-08 -0.475706\n",
       "2020-01-09 -0.706011"
      ]
     },
     "execution_count": 79,
     "metadata": {},
     "output_type": "execute_result"
    }
   ],
   "source": [
    "# create a scaler object\n",
    "std_scaler = StandardScaler()\n",
    "std_scaler\n",
    "# fit and transform the data\n",
    "df_data_st = pd.DataFrame(std_scaler.fit_transform(df_x), columns=df_x.columns)\n",
    "df_data_st.index=df_x.index\n",
    "\n",
    "df_data_st.head()"
   ]
  },
  {
   "cell_type": "code",
   "execution_count": 83,
   "metadata": {},
   "outputs": [
    {
     "data": {
      "text/html": [
       "<div>\n",
       "<style scoped>\n",
       "    .dataframe tbody tr th:only-of-type {\n",
       "        vertical-align: middle;\n",
       "    }\n",
       "\n",
       "    .dataframe tbody tr th {\n",
       "        vertical-align: top;\n",
       "    }\n",
       "\n",
       "    .dataframe thead th {\n",
       "        text-align: right;\n",
       "    }\n",
       "</style>\n",
       "<table border=\"1\" class=\"dataframe\">\n",
       "  <thead>\n",
       "    <tr style=\"text-align: right;\">\n",
       "      <th></th>\n",
       "      <th>USD_KZT Change %</th>\n",
       "      <th>USD_INR Change %</th>\n",
       "      <th>USD_RON Change %</th>\n",
       "      <th>EPU</th>\n",
       "      <th>transactions</th>\n",
       "      <th>VIX</th>\n",
       "      <th>DOWJ</th>\n",
       "      <th>daily_infect_emv_index</th>\n",
       "      <th>CRIX</th>\n",
       "      <th>GOLD</th>\n",
       "      <th>OIL</th>\n",
       "      <th>SP500</th>\n",
       "      <th>IR</th>\n",
       "      <th>Bitcoin</th>\n",
       "      <th>BTC</th>\n",
       "    </tr>\n",
       "  </thead>\n",
       "  <tbody>\n",
       "    <tr>\n",
       "      <th>2020-01-06</th>\n",
       "      <td>-0.57</td>\n",
       "      <td>0.14</td>\n",
       "      <td>-0.24</td>\n",
       "      <td>147.96</td>\n",
       "      <td>299146.0</td>\n",
       "      <td>13.85</td>\n",
       "      <td>922.07</td>\n",
       "      <td>0.99</td>\n",
       "      <td>560.83</td>\n",
       "      <td>1566.199951</td>\n",
       "      <td>63.270000</td>\n",
       "      <td>3246.280029</td>\n",
       "      <td>0.0155</td>\n",
       "      <td>-0.731600</td>\n",
       "      <td>7769.219238</td>\n",
       "    </tr>\n",
       "    <tr>\n",
       "      <th>2020-01-07</th>\n",
       "      <td>0.02</td>\n",
       "      <td>-0.03</td>\n",
       "      <td>0.45</td>\n",
       "      <td>103.98</td>\n",
       "      <td>344079.0</td>\n",
       "      <td>13.79</td>\n",
       "      <td>923.21</td>\n",
       "      <td>0.00</td>\n",
       "      <td>599.78</td>\n",
       "      <td>1571.800049</td>\n",
       "      <td>62.700001</td>\n",
       "      <td>3237.179932</td>\n",
       "      <td>0.0155</td>\n",
       "      <td>-0.578064</td>\n",
       "      <td>8163.692383</td>\n",
       "    </tr>\n",
       "    <tr>\n",
       "      <th>2020-01-08</th>\n",
       "      <td>-0.70</td>\n",
       "      <td>-0.46</td>\n",
       "      <td>0.39</td>\n",
       "      <td>91.15</td>\n",
       "      <td>318019.0</td>\n",
       "      <td>13.45</td>\n",
       "      <td>931.08</td>\n",
       "      <td>0.56</td>\n",
       "      <td>585.92</td>\n",
       "      <td>1557.400024</td>\n",
       "      <td>59.610001</td>\n",
       "      <td>3253.050049</td>\n",
       "      <td>0.0155</td>\n",
       "      <td>-0.475706</td>\n",
       "      <td>8079.862793</td>\n",
       "    </tr>\n",
       "    <tr>\n",
       "      <th>2020-01-09</th>\n",
       "      <td>-0.44</td>\n",
       "      <td>-0.43</td>\n",
       "      <td>0.05</td>\n",
       "      <td>71.92</td>\n",
       "      <td>322057.0</td>\n",
       "      <td>12.54</td>\n",
       "      <td>935.49</td>\n",
       "      <td>1.16</td>\n",
       "      <td>569.73</td>\n",
       "      <td>1551.699951</td>\n",
       "      <td>59.560001</td>\n",
       "      <td>3274.699951</td>\n",
       "      <td>0.0155</td>\n",
       "      <td>-0.706011</td>\n",
       "      <td>7879.071289</td>\n",
       "    </tr>\n",
       "    <tr>\n",
       "      <th>2020-01-10</th>\n",
       "      <td>0.35</td>\n",
       "      <td>-0.35</td>\n",
       "      <td>-0.14</td>\n",
       "      <td>74.58</td>\n",
       "      <td>330734.0</td>\n",
       "      <td>12.56</td>\n",
       "      <td>929.80</td>\n",
       "      <td>0.00</td>\n",
       "      <td>593.68</td>\n",
       "      <td>1557.500000</td>\n",
       "      <td>59.040001</td>\n",
       "      <td>3265.350098</td>\n",
       "      <td>0.0154</td>\n",
       "      <td>-0.688951</td>\n",
       "      <td>8166.554199</td>\n",
       "    </tr>\n",
       "  </tbody>\n",
       "</table>\n",
       "</div>"
      ],
      "text/plain": [
       "            USD_KZT Change %  USD_INR Change %  USD_RON Change %     EPU  \\\n",
       "2020-01-06             -0.57              0.14             -0.24  147.96   \n",
       "2020-01-07              0.02             -0.03              0.45  103.98   \n",
       "2020-01-08             -0.70             -0.46              0.39   91.15   \n",
       "2020-01-09             -0.44             -0.43              0.05   71.92   \n",
       "2020-01-10              0.35             -0.35             -0.14   74.58   \n",
       "\n",
       "            transactions    VIX    DOWJ  daily_infect_emv_index    CRIX  \\\n",
       "2020-01-06      299146.0  13.85  922.07                    0.99  560.83   \n",
       "2020-01-07      344079.0  13.79  923.21                    0.00  599.78   \n",
       "2020-01-08      318019.0  13.45  931.08                    0.56  585.92   \n",
       "2020-01-09      322057.0  12.54  935.49                    1.16  569.73   \n",
       "2020-01-10      330734.0  12.56  929.80                    0.00  593.68   \n",
       "\n",
       "                   GOLD        OIL        SP500      IR   Bitcoin          BTC  \n",
       "2020-01-06  1566.199951  63.270000  3246.280029  0.0155 -0.731600  7769.219238  \n",
       "2020-01-07  1571.800049  62.700001  3237.179932  0.0155 -0.578064  8163.692383  \n",
       "2020-01-08  1557.400024  59.610001  3253.050049  0.0155 -0.475706  8079.862793  \n",
       "2020-01-09  1551.699951  59.560001  3274.699951  0.0155 -0.706011  7879.071289  \n",
       "2020-01-10  1557.500000  59.040001  3265.350098  0.0154 -0.688951  8166.554199  "
      ]
     },
     "execution_count": 83,
     "metadata": {},
     "output_type": "execute_result"
    }
   ],
   "source": [
    "df_raw_merged= df505.merge(df_data_st, left_index=True, \n",
    "                           right_index=True).merge(df_btc, left_index=True, right_index=True)\n",
    "df_raw_merged.head()"
   ]
  },
  {
   "cell_type": "markdown",
   "metadata": {},
   "source": [
    "------------------------------------------------------------------------------------------------------------------"
   ]
  },
  {
   "cell_type": "markdown",
   "metadata": {},
   "source": [
    "### Merging all data together in one data set \n",
    "\n",
    "Merged only BTC_ret, GoogleTrend, GOLD, OIL, SP500, EPU, transactions, VIX, DOWJ --> that are either scaled or in their log forms. A few lines up --> erged raw data - so in the natural form (tho Google trend is already standardised but it is non-stationary, as we can see in the ADF test)\n",
    "But i added the raw data set so we can show, why we took variables in their log forms --> avoid unit root. But Daily infectious diseasse tracker can't be put in the log form, because it contains 0.00 values. So i thik maybe first we run ADF test on raw data, see whether is necessary to put it in log forms, and then decide, what should be standardised to fit the scale and what should be put in log forms, or what can we just let it in the raw form."
   ]
  },
  {
   "cell_type": "code",
   "execution_count": 84,
   "metadata": {},
   "outputs": [],
   "source": [
    "btc_merged=returns_btc.join(df_data_st)\n",
    "btc_df= btc_merged.merge(yahoofin_returns, left_index=True, right_index=True)\n",
    "btc_data= btc_df.merge(df_merge_returns, left_index=True, right_index=True)"
   ]
  },
  {
   "cell_type": "code",
   "execution_count": 85,
   "metadata": {
    "scrolled": false
   },
   "outputs": [],
   "source": [
    "data_btc=btc_data.dropna()"
   ]
  },
  {
   "cell_type": "code",
   "execution_count": 86,
   "metadata": {
    "scrolled": true
   },
   "outputs": [
    {
     "name": "stderr",
     "output_type": "stream",
     "text": [
      "/Users/nezasmid/opt/anaconda3/lib/python3.8/site-packages/pandas/core/frame.py:4441: SettingWithCopyWarning: \n",
      "A value is trying to be set on a copy of a slice from a DataFrame\n",
      "\n",
      "See the caveats in the documentation: https://pandas.pydata.org/pandas-docs/stable/user_guide/indexing.html#returning-a-view-versus-a-copy\n",
      "  return super().rename(\n"
     ]
    }
   ],
   "source": [
    "data_btc.rename(columns={\"Bitcoin\": \"GoogleTrend\", \"BTC\": \"BTC_ret\"}, inplace=True)"
   ]
  },
  {
   "cell_type": "code",
   "execution_count": 87,
   "metadata": {},
   "outputs": [
    {
     "data": {
      "text/html": [
       "<div>\n",
       "<style scoped>\n",
       "    .dataframe tbody tr th:only-of-type {\n",
       "        vertical-align: middle;\n",
       "    }\n",
       "\n",
       "    .dataframe tbody tr th {\n",
       "        vertical-align: top;\n",
       "    }\n",
       "\n",
       "    .dataframe thead th {\n",
       "        text-align: right;\n",
       "    }\n",
       "</style>\n",
       "<table border=\"1\" class=\"dataframe\">\n",
       "  <thead>\n",
       "    <tr style=\"text-align: right;\">\n",
       "      <th></th>\n",
       "      <th>BTC_ret</th>\n",
       "      <th>GoogleTrend</th>\n",
       "      <th>GOLD</th>\n",
       "      <th>OIL</th>\n",
       "      <th>SP500</th>\n",
       "      <th>EPU</th>\n",
       "      <th>transactions</th>\n",
       "      <th>VIX</th>\n",
       "      <th>DOWJ</th>\n",
       "    </tr>\n",
       "  </thead>\n",
       "  <tbody>\n",
       "    <tr>\n",
       "      <th>2020-01-06</th>\n",
       "      <td>0.047161</td>\n",
       "      <td>-0.731600</td>\n",
       "      <td>0.010914</td>\n",
       "      <td>0.003483</td>\n",
       "      <td>0.003527</td>\n",
       "      <td>0.313885</td>\n",
       "      <td>-0.056445</td>\n",
       "      <td>-0.012200</td>\n",
       "      <td>-0.001171</td>\n",
       "    </tr>\n",
       "    <tr>\n",
       "      <th>2020-01-07</th>\n",
       "      <td>0.049527</td>\n",
       "      <td>-0.578064</td>\n",
       "      <td>0.003569</td>\n",
       "      <td>-0.009050</td>\n",
       "      <td>-0.002807</td>\n",
       "      <td>-0.352743</td>\n",
       "      <td>0.139940</td>\n",
       "      <td>-0.004342</td>\n",
       "      <td>0.001236</td>\n",
       "    </tr>\n",
       "    <tr>\n",
       "      <th>2020-01-08</th>\n",
       "      <td>-0.010322</td>\n",
       "      <td>-0.475706</td>\n",
       "      <td>-0.009204</td>\n",
       "      <td>-0.050538</td>\n",
       "      <td>0.004890</td>\n",
       "      <td>-0.131692</td>\n",
       "      <td>-0.078760</td>\n",
       "      <td>-0.024965</td>\n",
       "      <td>0.008488</td>\n",
       "    </tr>\n",
       "    <tr>\n",
       "      <th>2020-01-09</th>\n",
       "      <td>-0.025165</td>\n",
       "      <td>-0.706011</td>\n",
       "      <td>-0.003667</td>\n",
       "      <td>-0.000839</td>\n",
       "      <td>0.006633</td>\n",
       "      <td>-0.236952</td>\n",
       "      <td>0.012617</td>\n",
       "      <td>-0.070056</td>\n",
       "      <td>0.004725</td>\n",
       "    </tr>\n",
       "    <tr>\n",
       "      <th>2020-01-10</th>\n",
       "      <td>0.035837</td>\n",
       "      <td>-0.688951</td>\n",
       "      <td>0.003731</td>\n",
       "      <td>-0.008769</td>\n",
       "      <td>-0.002859</td>\n",
       "      <td>0.036318</td>\n",
       "      <td>0.026586</td>\n",
       "      <td>0.001594</td>\n",
       "      <td>-0.006101</td>\n",
       "    </tr>\n",
       "    <tr>\n",
       "      <th>...</th>\n",
       "      <td>...</td>\n",
       "      <td>...</td>\n",
       "      <td>...</td>\n",
       "      <td>...</td>\n",
       "      <td>...</td>\n",
       "      <td>...</td>\n",
       "      <td>...</td>\n",
       "      <td>...</td>\n",
       "      <td>...</td>\n",
       "    </tr>\n",
       "    <tr>\n",
       "      <th>2022-01-10</th>\n",
       "      <td>-0.002158</td>\n",
       "      <td>0.519000</td>\n",
       "      <td>0.000779</td>\n",
       "      <td>-0.008528</td>\n",
       "      <td>-0.001442</td>\n",
       "      <td>0.863399</td>\n",
       "      <td>0.043529</td>\n",
       "      <td>0.033546</td>\n",
       "      <td>-0.022903</td>\n",
       "    </tr>\n",
       "    <tr>\n",
       "      <th>2022-01-11</th>\n",
       "      <td>0.021633</td>\n",
       "      <td>0.204054</td>\n",
       "      <td>0.011170</td>\n",
       "      <td>0.037508</td>\n",
       "      <td>0.009118</td>\n",
       "      <td>-0.719922</td>\n",
       "      <td>0.040249</td>\n",
       "      <td>-0.052379</td>\n",
       "      <td>0.027715</td>\n",
       "    </tr>\n",
       "    <tr>\n",
       "      <th>2022-01-12</th>\n",
       "      <td>0.027994</td>\n",
       "      <td>0.246047</td>\n",
       "      <td>0.004718</td>\n",
       "      <td>0.017332</td>\n",
       "      <td>0.002814</td>\n",
       "      <td>0.429720</td>\n",
       "      <td>-0.020978</td>\n",
       "      <td>-0.043859</td>\n",
       "      <td>-0.011513</td>\n",
       "    </tr>\n",
       "    <tr>\n",
       "      <th>2022-01-13</th>\n",
       "      <td>-0.031376</td>\n",
       "      <td>0.036082</td>\n",
       "      <td>-0.003289</td>\n",
       "      <td>-0.006312</td>\n",
       "      <td>-0.014346</td>\n",
       "      <td>-0.462617</td>\n",
       "      <td>0.009450</td>\n",
       "      <td>0.142079</td>\n",
       "      <td>-0.028461</td>\n",
       "    </tr>\n",
       "    <tr>\n",
       "      <th>2022-01-14</th>\n",
       "      <td>0.011860</td>\n",
       "      <td>-0.005911</td>\n",
       "      <td>-0.002584</td>\n",
       "      <td>0.020490</td>\n",
       "      <td>0.000820</td>\n",
       "      <td>-0.024867</td>\n",
       "      <td>-0.013323</td>\n",
       "      <td>-0.056724</td>\n",
       "      <td>0.014879</td>\n",
       "    </tr>\n",
       "  </tbody>\n",
       "</table>\n",
       "<p>494 rows × 9 columns</p>\n",
       "</div>"
      ],
      "text/plain": [
       "             BTC_ret  GoogleTrend      GOLD       OIL     SP500       EPU  \\\n",
       "2020-01-06  0.047161    -0.731600  0.010914  0.003483  0.003527  0.313885   \n",
       "2020-01-07  0.049527    -0.578064  0.003569 -0.009050 -0.002807 -0.352743   \n",
       "2020-01-08 -0.010322    -0.475706 -0.009204 -0.050538  0.004890 -0.131692   \n",
       "2020-01-09 -0.025165    -0.706011 -0.003667 -0.000839  0.006633 -0.236952   \n",
       "2020-01-10  0.035837    -0.688951  0.003731 -0.008769 -0.002859  0.036318   \n",
       "...              ...          ...       ...       ...       ...       ...   \n",
       "2022-01-10 -0.002158     0.519000  0.000779 -0.008528 -0.001442  0.863399   \n",
       "2022-01-11  0.021633     0.204054  0.011170  0.037508  0.009118 -0.719922   \n",
       "2022-01-12  0.027994     0.246047  0.004718  0.017332  0.002814  0.429720   \n",
       "2022-01-13 -0.031376     0.036082 -0.003289 -0.006312 -0.014346 -0.462617   \n",
       "2022-01-14  0.011860    -0.005911 -0.002584  0.020490  0.000820 -0.024867   \n",
       "\n",
       "            transactions       VIX      DOWJ  \n",
       "2020-01-06     -0.056445 -0.012200 -0.001171  \n",
       "2020-01-07      0.139940 -0.004342  0.001236  \n",
       "2020-01-08     -0.078760 -0.024965  0.008488  \n",
       "2020-01-09      0.012617 -0.070056  0.004725  \n",
       "2020-01-10      0.026586  0.001594 -0.006101  \n",
       "...                  ...       ...       ...  \n",
       "2022-01-10      0.043529  0.033546 -0.022903  \n",
       "2022-01-11      0.040249 -0.052379  0.027715  \n",
       "2022-01-12     -0.020978 -0.043859 -0.011513  \n",
       "2022-01-13      0.009450  0.142079 -0.028461  \n",
       "2022-01-14     -0.013323 -0.056724  0.014879  \n",
       "\n",
       "[494 rows x 9 columns]"
      ]
     },
     "execution_count": 87,
     "metadata": {},
     "output_type": "execute_result"
    }
   ],
   "source": [
    "data_btc"
   ]
  },
  {
   "cell_type": "markdown",
   "metadata": {},
   "source": [
    "### Descriptives - get to know the data"
   ]
  },
  {
   "cell_type": "code",
   "execution_count": null,
   "metadata": {},
   "outputs": [],
   "source": [
    "data_btc.hist(figsize=(20,20))"
   ]
  },
  {
   "cell_type": "code",
   "execution_count": null,
   "metadata": {},
   "outputs": [],
   "source": [
    "data_btc.describe()"
   ]
  },
  {
   "cell_type": "markdown",
   "metadata": {},
   "source": [
    "### Should we standardized/winsorized ? When doing histograms i did not see any outliers maybe not necessary ?"
   ]
  },
  {
   "cell_type": "code",
   "execution_count": null,
   "metadata": {},
   "outputs": [],
   "source": [
    "sns.pairplot(data_btc)"
   ]
  },
  {
   "cell_type": "markdown",
   "metadata": {},
   "source": [
    "### Dickey-Fuller test (if needed)\n",
    "\n",
    "https://www.statsmodels.org/dev/generated/statsmodels.tsa.stattools.adfuller.html\n",
    "https://www.statology.org/dickey-fuller-test-python/\n",
    "https://www.hackdeploy.com/augmented-dickey-fuller-test-in-python/"
   ]
  },
  {
   "cell_type": "code",
   "execution_count": null,
   "metadata": {},
   "outputs": [],
   "source": [
    "#Def function for ADF, i found it on the internet :) --> same link as for the VAR\n",
    "def adfuller_test(series, signif=0.05, name='', verbose=False):\n",
    "    \"\"\"Perform ADFuller to test for Stationarity of given series and print report\"\"\"\n",
    "    r = adfuller(series, autolag='AIC')\n",
    "    output = {'test_statistic':round(r[0], 4), 'pvalue':round(r[1], 4), 'n_lags':round(r[2], 4), 'n_obs':r[3]}\n",
    "    p_value = output['pvalue'] \n",
    "    def adjust(val, length= 6): return str(val).ljust(length)\n",
    "\n",
    "    # Print Summary\n",
    "    print(f'    Augmented Dickey-Fuller Test on \"{name}\"', \"\\n   \", '-'*47)\n",
    "    print(f' Null Hypothesis: Data has unit root. Non-Stationary.')\n",
    "    print(f' Significance Level    = {signif}')\n",
    "    print(f' Test Statistic        = {output[\"test_statistic\"]}')\n",
    "    print(f' No. Lags Chosen       = {output[\"n_lags\"]}')\n",
    "\n",
    "    for key,val in r[4].items():\n",
    "        print(f' Critical value {adjust(key)} = {round(val, 3)}')\n",
    "\n",
    "    if p_value <= signif:\n",
    "        print(f\" => P-Value = {p_value}. Rejecting Null Hypothesis.\")\n",
    "        print(f\" => Series is Stationary.\")\n",
    "    else:\n",
    "        print(f\" => P-Value = {p_value}. Weak evidence to reject the Null Hypothesis.\")\n",
    "        print(f\" => Series is Non-Stationary.\")   "
   ]
  },
  {
   "cell_type": "code",
   "execution_count": null,
   "metadata": {},
   "outputs": [],
   "source": [
    "# ADF Test on each column\n",
    "for name, column in data_btc.iteritems():\n",
    "    adfuller_test(column, name=column.name)\n",
    "    print('\\n')"
   ]
  },
  {
   "cell_type": "markdown",
   "metadata": {},
   "source": [
    "This thing probably looks much nicer than what i did, one variable after another. I let both options in here, but for the final output we can use just one :)"
   ]
  },
  {
   "cell_type": "markdown",
   "metadata": {},
   "source": [
    "### Correlation matirx"
   ]
  },
  {
   "cell_type": "code",
   "execution_count": null,
   "metadata": {},
   "outputs": [],
   "source": [
    "data_btc.corr()\n",
    "\n",
    "# Plotting the seaborn heatmap \n",
    "fig = plt.figure(figsize=[10,10])\n",
    "sns.heatmap(data_btc.corr(), annot=True, cmap=\"Greens\")\n",
    "plt.show()"
   ]
  },
  {
   "cell_type": "code",
   "execution_count": null,
   "metadata": {},
   "outputs": [],
   "source": [
    "data_btc.corr()"
   ]
  },
  {
   "cell_type": "markdown",
   "metadata": {},
   "source": [
    "### Classic OLS model\n",
    "https://www.statsmodels.org/dev/examples/notebooks/generated/ols.html"
   ]
  },
  {
   "cell_type": "code",
   "execution_count": null,
   "metadata": {},
   "outputs": [],
   "source": [
    "x=data_btc.drop(columns=['BTC_ret'])"
   ]
  },
  {
   "cell_type": "code",
   "execution_count": null,
   "metadata": {},
   "outputs": [],
   "source": [
    "y=data_btc.BTC_ret"
   ]
  },
  {
   "cell_type": "code",
   "execution_count": null,
   "metadata": {},
   "outputs": [],
   "source": [
    "#Model without the constant - just the variables also considering IR but we can replace it later\n",
    "results = sm.OLS(y, x).fit()\n",
    "results.summary()"
   ]
  },
  {
   "cell_type": "code",
   "execution_count": null,
   "metadata": {},
   "outputs": [],
   "source": [
    "model = ols(\"BTC_ret ~ OIL + GOLD + SP500 + GoogleTrend\", data_btc)\n",
    "fit = model.fit()\n",
    "print(fit.summary())"
   ]
  },
  {
   "cell_type": "markdown",
   "metadata": {},
   "source": [
    "## VAR model\n",
    "https://www.machinelearningplus.com/time-series/vector-autoregression-examples-python/\n",
    "https://analyticsindiamag.com/hands-on-tutorial-on-vector-autoregressionvar-for-time-series-modeling/"
   ]
  },
  {
   "cell_type": "code",
   "execution_count": null,
   "metadata": {
    "scrolled": false
   },
   "outputs": [],
   "source": [
    "data_btc.plot()"
   ]
  },
  {
   "cell_type": "markdown",
   "metadata": {},
   "source": [
    "### Granger's causality test - should we do that also ? \n",
    "By using granger’s causality test, we can find the relationship between the variables before building the model because it is known that if there is no relationship between the variables, we can drop the variables and separately do the modeling. If there is a relationship between them, we need to consider the variable in the modeling part.\n",
    "\n",
    "In mathematics, the test provides the p-value between the variables, and if the p-value is higher than 0.05 then we will be required to accept the null hypothesis, and if the p-value is lesser than 0.05 we are required to reject the null hypothesis.\n",
    "\n",
    "Statsmodel also provides a module to perform the test, so using the statsmodel next, I am performing the granger’s causality test."
   ]
  },
  {
   "cell_type": "code",
   "execution_count": null,
   "metadata": {},
   "outputs": [],
   "source": [
    "from statsmodels.tsa.stattools import grangercausalitytests"
   ]
  },
  {
   "cell_type": "markdown",
   "metadata": {},
   "source": [
    "### Cointegration test-  should we do that also ? \n",
    "\n",
    "Cointegration helps to find out the statistical connection between two or more time series. When two or more time series are cointegrated, they have a long run, statistically significant relationship."
   ]
  },
  {
   "cell_type": "code",
   "execution_count": null,
   "metadata": {},
   "outputs": [],
   "source": [
    "from statsmodels.tsa.vector_ar.vecm import coint_johansen"
   ]
  },
  {
   "cell_type": "markdown",
   "metadata": {},
   "source": [
    "### VAR"
   ]
  },
  {
   "cell_type": "code",
   "execution_count": null,
   "metadata": {},
   "outputs": [],
   "source": [
    "var = VAR(data_btc)"
   ]
  },
  {
   "cell_type": "code",
   "execution_count": null,
   "metadata": {},
   "outputs": [],
   "source": [
    "x= var.select_order()\n",
    "x.summary()"
   ]
  },
  {
   "cell_type": "code",
   "execution_count": null,
   "metadata": {},
   "outputs": [],
   "source": [
    "results = var.fit(9)\n",
    "#We can check the summary of the model by.\n",
    "results.summary()"
   ]
  },
  {
   "cell_type": "code",
   "execution_count": null,
   "metadata": {},
   "outputs": [],
   "source": [
    "results = var.fit(1)\n",
    "#We can check the summary of the model by.\n",
    "results.summary()"
   ]
  },
  {
   "cell_type": "code",
   "execution_count": null,
   "metadata": {},
   "outputs": [],
   "source": []
  },
  {
   "cell_type": "markdown",
   "metadata": {},
   "source": [
    "#### If needed also ARDL"
   ]
  },
  {
   "cell_type": "code",
   "execution_count": null,
   "metadata": {},
   "outputs": [],
   "source": []
  },
  {
   "cell_type": "code",
   "execution_count": null,
   "metadata": {},
   "outputs": [],
   "source": []
  }
 ],
 "metadata": {
  "hide_input": false,
  "kernelspec": {
   "display_name": "Python 3",
   "language": "python",
   "name": "python3"
  },
  "language_info": {
   "codemirror_mode": {
    "name": "ipython",
    "version": 3
   },
   "file_extension": ".py",
   "mimetype": "text/x-python",
   "name": "python",
   "nbconvert_exporter": "python",
   "pygments_lexer": "ipython3",
   "version": "3.8.8"
  },
  "latex_envs": {
   "LaTeX_envs_menu_present": true,
   "autoclose": false,
   "autocomplete": true,
   "bibliofile": "biblio.bib",
   "cite_by": "apalike",
   "current_citInitial": 1,
   "eqLabelWithNumbers": true,
   "eqNumInitial": 1,
   "hotkeys": {
    "equation": "Ctrl-E",
    "itemize": "Ctrl-I"
   },
   "labels_anchors": false,
   "latex_user_defs": false,
   "report_style_numbering": false,
   "user_envs_cfg": false
  },
  "toc": {
   "base_numbering": 1,
   "nav_menu": {},
   "number_sections": false,
   "sideBar": true,
   "skip_h1_title": false,
   "title_cell": "Table of Contents",
   "title_sidebar": "Contents",
   "toc_cell": false,
   "toc_position": {},
   "toc_section_display": true,
   "toc_window_display": true
  },
  "varInspector": {
   "cols": {
    "lenName": 16,
    "lenType": 16,
    "lenVar": 40
   },
   "kernels_config": {
    "python": {
     "delete_cmd_postfix": "",
     "delete_cmd_prefix": "del ",
     "library": "var_list.py",
     "varRefreshCmd": "print(var_dic_list())"
    },
    "r": {
     "delete_cmd_postfix": ") ",
     "delete_cmd_prefix": "rm(",
     "library": "var_list.r",
     "varRefreshCmd": "cat(var_dic_list()) "
    }
   },
   "types_to_exclude": [
    "module",
    "function",
    "builtin_function_or_method",
    "instance",
    "_Feature"
   ],
   "window_display": false
  }
 },
 "nbformat": 4,
 "nbformat_minor": 2
}
